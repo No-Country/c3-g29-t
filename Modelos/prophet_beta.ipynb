{
 "cells": [
  {
   "cell_type": "code",
   "execution_count": null,
   "id": "6a08c5a2-7fa9-4924-a001-573d2f2788ac",
   "metadata": {},
   "outputs": [],
   "source": [
    "#Operaciones algebraicas\n",
    "import numpy as np\n",
    "\n",
    "# Para tratamiento y e/s de datos\n",
    "import pandas as pd\n",
    "\n",
    "# Gráficos de datos\n",
    "import matplotlib.pyplot as plt\n",
    "import plotly.express as px\n",
    "import plotly.graph_objects as go\n",
    "import seaborn as sns\n",
    "sns.set()\n",
    "%config InlineBackend.figure_format = 'svg'\n",
    "\n",
    "#filtrado para suavizar los datos\n",
    "from scipy.signal import savgol_filter"
   ]
  },
  {
   "cell_type": "code",
   "execution_count": null,
   "id": "a9f3c309-2d21-47cb-b184-981ab04abecb",
   "metadata": {},
   "outputs": [],
   "source": [
    "from prophet import Prophet\n",
    "# from fbprophet.deagnostics import cross_validation"
   ]
  },
  {
   "cell_type": "markdown",
   "id": "32594ae5-a0b8-4aeb-bebf-2c629ecd3d17",
   "metadata": {},
   "source": [
    "# Forecasting Demanda Energía (Prophet)"
   ]
  },
  {
   "cell_type": "code",
   "execution_count": null,
   "id": "df1d0eb5-aa9e-438e-82ff-313e2db05798",
   "metadata": {},
   "outputs": [],
   "source": [
    "# Importo el archivos de datos de consumo de energia en la zona este de EE.UU.\n",
    "df = pd.read_csv(r'Raw_Data/medidor_1.csv')\n",
    "df.head()"
   ]
  },
  {
   "cell_type": "code",
   "execution_count": null,
   "id": "d3747ea7-e24c-46b5-92ef-bc4d0e37093e",
   "metadata": {},
   "outputs": [],
   "source": [
    "print(df.shape)\n",
    "print('\\n')\n",
    "print(df.info())"
   ]
  },
  {
   "cell_type": "code",
   "execution_count": null,
   "id": "31d22fb7-ec7b-4cb9-9abd-7ef8c5a88251",
   "metadata": {},
   "outputs": [],
   "source": [
    "# Cambio de nombre en columnas y eliminamos otra\n",
    "df.rename(columns={'fechahora':'Datetime', 'demanda_activa':'y[kW]'}, inplace = True)\n",
    "df.drop(columns='terminal', inplace=True)\n",
    "\n",
    "df.head()"
   ]
  },
  {
   "cell_type": "markdown",
   "id": "24f538df-9d57-4f69-8376-d9ba67d28b4c",
   "metadata": {},
   "source": [
    "<b>Target_values: \"y[kW]\"</b>"
   ]
  },
  {
   "cell_type": "code",
   "execution_count": null,
   "id": "2a5cb20d-8102-454a-bd5d-2ffc30fbfd05",
   "metadata": {},
   "outputs": [],
   "source": [
    "#Convierto a tipo DateTimeIndex la columna \"Datetime\"\n",
    "df['Datetime'] = pd.to_datetime(df['Datetime'])\n",
    "df.sort_values(by=['Datetime'], axis = 0, ascending = True, inplace = True)\n",
    "df.reset_index(inplace = True, drop = True)\n",
    "\n",
    "df.head()"
   ]
  },
  {
   "cell_type": "code",
   "execution_count": null,
   "id": "0ce72ebc-d70c-4635-bd40-4d8e1b6a8833",
   "metadata": {},
   "outputs": [],
   "source": [
    "# Calcula algunos parámetros estadísticos solo sobre las variables de tipo float/int\n",
    "df.describe()"
   ]
  },
  {
   "cell_type": "markdown",
   "id": "caf647ff-671e-4a7c-91e7-cf13d974bb8b",
   "metadata": {},
   "source": [
    "## Limpieza de datos"
   ]
  },
  {
   "cell_type": "markdown",
   "id": "580d1fe1-e7d5-400d-84a3-ff54bf8084b1",
   "metadata": {},
   "source": [
    "### Eliminación de datos duplicados"
   ]
  },
  {
   "cell_type": "code",
   "execution_count": null,
   "id": "3cbe65af-e1d0-4a19-b6c6-5d43a0dd4cc3",
   "metadata": {},
   "outputs": [],
   "source": [
    "# De datos duplicados, solo se mantiene la medición más reciente. \n",
    "df.drop_duplicates(subset = 'Datetime', keep = 'last', inplace = True)\n",
    "df.shape"
   ]
  },
  {
   "cell_type": "markdown",
   "id": "b07b5554-4b34-4737-942c-bff6b79dd4d5",
   "metadata": {},
   "source": [
    "### Tratamiento de espacios vacios para un grupo de datos continuos"
   ]
  },
  {
   "cell_type": "code",
   "execution_count": null,
   "id": "6cec5dba-e2bb-4b76-af08-00f6e99884aa",
   "metadata": {},
   "outputs": [],
   "source": [
    "df_2 = df.set_index('Datetime')\n",
    "df_2.drop(['2017-08-18 09:15:00'], inplace = True)\n",
    "df_2"
   ]
  },
  {
   "cell_type": "code",
   "execution_count": null,
   "id": "8c2d689a-57c1-47c9-9501-15b8054b3537",
   "metadata": {},
   "outputs": [],
   "source": [
    "print(df_2.index.min())\n",
    "print(df_2.index.max())"
   ]
  },
  {
   "cell_type": "code",
   "execution_count": null,
   "id": "ce519ad8-cfd2-42ce-b931-bedd316f21ae",
   "metadata": {},
   "outputs": [],
   "source": [
    "print(f'df_2.index.freq is set to: {df_2.index.freq}')"
   ]
  },
  {
   "cell_type": "markdown",
   "id": "5f0de2cb-e12b-47f2-b82f-c9f63a2069ce",
   "metadata": {},
   "source": [
    "<i>\n",
    "Tener un dataset con frecuencia en \"None\" indica \n",
    "que existen datos que perdidos (missing). <br>\n",
    "Para verificar lo dicho, podemos comparar con un rango de datos\n",
    "custom e ininterrumpido\n",
    "</i>"
   ]
  },
  {
   "cell_type": "code",
   "execution_count": null,
   "id": "1dae01f0-f95f-4bef-82b1-fab0a2904c64",
   "metadata": {},
   "outputs": [],
   "source": [
    "# Custom range\n",
    "data_range = pd.date_range(start = min(df_2.index),\n",
    "                          end = max(df_2.index),\n",
    "                          freq = '15min') \n",
    "#freq = '15min' indica frecuencia por hora.\n",
    "#Explicación: genero un dataframe con una frecuencia horaria desde el valor minimo del index (datetime)\n",
    "#del dataframe original, y con el valor máximo del index. Con esto lo que obtengo es TODO EL CALENDARIO\n",
    "#sin datos perdidos. \n",
    "#Al hacer mas adelante la diferencia entre ambos dataframe, voy a obtener los \"días perdidos\" del dataframe original. \n",
    "# https://pandas.pydata.org/docs/user_guide/timeseries.html#timeseries-offset-aliases\n",
    "data_range"
   ]
  },
  {
   "cell_type": "code",
   "execution_count": null,
   "id": "37dc6b95-4014-4609-959e-14066890400d",
   "metadata": {},
   "outputs": [],
   "source": [
    "print(f'La diferencia de longitud entre el rango customizado de datos y nuestro dataset es {(len(data_range)-len(df_2))}')"
   ]
  },
  {
   "cell_type": "code",
   "execution_count": null,
   "id": "17a2bcd2-181a-4036-936f-0a6d744ada37",
   "metadata": {},
   "outputs": [],
   "source": [
    "print(data_range.difference(df_2.index))\n",
    "print('\\n')\n",
    "print(f'La diferencia de longitud entre el rango customizado de datos y nuestro dataset es {(len(data_range)-len(df_2))}')"
   ]
  },
  {
   "cell_type": "markdown",
   "id": "8ca14029-1f33-4fa8-a3cc-f4f30492d6d1",
   "metadata": {},
   "source": [
    "<i>Lo que ese numero indica es la cantidad de puntos en el tiempo perdidos dentro del conjunto de datos</i>"
   ]
  },
  {
   "cell_type": "code",
   "execution_count": null,
   "id": "e470e0f1-5e69-4d4e-8940-604bf230f961",
   "metadata": {},
   "outputs": [],
   "source": [
    "# El siguiente comando adjunta los datos \"datetime\" perdidos (missing) al dataset original\n",
    "# pero va a generar valores NaN para la variable Target (y[kW])\n",
    "df_3 = df_2.reindex(data_range)\n",
    "\n",
    "# Llenamos estos valores blancos con valores que se encuentran en una curva lineal entre puntos de datos existentes\n",
    "df_3['y[kW]'].interpolate(method='linear', inplace=True)\n",
    "\n",
    "# Con la interpolación se tiene un datetime (set de hora y dias) continuo\n",
    "print(f'La df.index.freq ahora es: {df_3.index.freq}, indicando que ya no tenemos valores perdidos')"
   ]
  },
  {
   "cell_type": "markdown",
   "id": "7903729c-3a8e-499c-9991-bf2c91fd1ec8",
   "metadata": {},
   "source": [
    "## Filtro savgol_filter"
   ]
  },
  {
   "cell_type": "code",
   "execution_count": null,
   "id": "e49c473f-e070-4b9e-9d22-309cb3e4ac4b",
   "metadata": {},
   "outputs": [],
   "source": [
    "# Datos sin filtrar\n",
    "fig = go.Figure()\n",
    "fig.add_trace(go.Scatter(x=df_3.index, y=df_3['y[kW]'],\n",
    "                         mode='lines',\n",
    "                         name='Datos'))\n",
    "\n",
    "# adjust layout\n",
    "fig.update_traces(line=dict(width=0.5))\n",
    "fig.show()"
   ]
  },
  {
   "cell_type": "code",
   "execution_count": null,
   "id": "87bc9e87-9604-4854-8f4c-fbe8e738a961",
   "metadata": {},
   "outputs": [],
   "source": [
    "# Aplica filtro elegido en base a buscar cual mejor se adecua\n",
    "y_filtered = df_3[[\"y[kW]\"]].apply(savgol_filter,  window_length=5, polyorder=3)"
   ]
  },
  {
   "cell_type": "code",
   "execution_count": null,
   "id": "d10e626b-befd-4182-a4ea-880c63a4f690",
   "metadata": {},
   "outputs": [],
   "source": [
    "# create figure\n",
    "fig = go.Figure()\n",
    "fig.add_trace(go.Scatter(x=df_3.index,y=df_3['y[kW]'],\n",
    "                         mode='lines',\n",
    "                         name='No Filtrada'))\n",
    "fig.add_trace(go.Scatter(x=y_filtered.index, y=y_filtered['y[kW]'],\n",
    "                         mode='lines', \n",
    "                         name='Filtrada'))\n",
    "\n",
    "# adjust layout\n",
    "fig.update_traces(line=dict(width=0.5))\n",
    "fig.show()"
   ]
  },
  {
   "cell_type": "markdown",
   "id": "579eedff-dfc2-4516-ac75-46ad70170177",
   "metadata": {},
   "source": [
    "Estudiando la gráfica se observa un comportamiento con patron en temporadas (estación del año). "
   ]
  },
  {
   "cell_type": "code",
   "execution_count": null,
   "id": "e6501d6f-dc49-4fd8-a46a-612b84c37346",
   "metadata": {},
   "outputs": [],
   "source": [
    "y_filtered.head()"
   ]
  },
  {
   "cell_type": "code",
   "execution_count": null,
   "id": "5ffae6af-72c0-40e6-bfdc-d6aede6f2493",
   "metadata": {},
   "outputs": [],
   "source": [
    "y_filtered.info()"
   ]
  },
  {
   "cell_type": "markdown",
   "id": "5a92ded6-a3b4-4da9-be6a-d4edda8db7b6",
   "metadata": {},
   "source": [
    "## EDA: Analisis Exploratorio de Datos"
   ]
  },
  {
   "cell_type": "markdown",
   "id": "fe5da7a5-59f2-4e1a-bdec-8c62a3c9c420",
   "metadata": {},
   "source": [
    "### Extraemos características de la variable Tiempo "
   ]
  },
  {
   "cell_type": "markdown",
   "id": "cd14bcf7-4c64-47a9-9534-7fd18ec13ab4",
   "metadata": {},
   "source": [
    "<i>\n",
    "Podemos dividir la columna de Datetime en sus diferentes componentes. <br>\n",
    "Esto nos permite encontrar patrones para diferentes grupos.\n",
    "</i>"
   ]
  },
  {
   "cell_type": "code",
   "execution_count": null,
   "id": "934bf9b3-e647-496b-a182-b8a8f240435f",
   "metadata": {},
   "outputs": [],
   "source": [
    "y_filtered['dow'] = y_filtered.index.day_of_week\n",
    "y_filtered['doy'] = y_filtered.index.day_of_year\n",
    "y_filtered['year'] = y_filtered.index.year\n",
    "y_filtered['month'] = y_filtered.index.month\n",
    "y_filtered['quarter'] = y_filtered.index.quarter\n",
    "y_filtered['hour'] = y_filtered.index.hour\n",
    "y_filtered['weekday'] = y_filtered.index.day_name()\n",
    "y_filtered['woy'] = y_filtered.index.isocalendar().week #week of year\n",
    "y_filtered['dom'] = y_filtered.index.day # Day of Month\n",
    "y_filtered['date'] = y_filtered.index.date \n",
    "\n",
    "# número de estación del año\n",
    "y_filtered['season'] = y_filtered['month'].apply(lambda month_number: (month_number%12 + 3)//3) \n",
    "# el operador aritmético // solo devuelve a parte entera de la división."
   ]
  },
  {
   "cell_type": "code",
   "execution_count": null,
   "id": "e8ab8604-0765-4f2c-b1df-f807221b7366",
   "metadata": {},
   "outputs": [],
   "source": [
    "y_filtered.info()"
   ]
  },
  {
   "cell_type": "markdown",
   "id": "b7f1d199-346c-4325-8408-f9dfff3bfbed",
   "metadata": {},
   "source": [
    "### Histograma "
   ]
  },
  {
   "cell_type": "code",
   "execution_count": null,
   "id": "41647069-2585-4c43-b8d5-7e16de20c6d9",
   "metadata": {},
   "outputs": [],
   "source": [
    "features_num = [\"y[kW]\"]\n",
    "y_filtered[features_num].hist(figsize=(10,4)); #el ; es para evitar una grafica duplicada"
   ]
  },
  {
   "cell_type": "markdown",
   "id": "a1b526b3-74a6-4efd-9523-54f098569af8",
   "metadata": {},
   "source": [
    "### Matriz de correlación"
   ]
  },
  {
   "cell_type": "code",
   "execution_count": null,
   "id": "c05c1ba4-f049-4c30-81a9-32bd94f19bad",
   "metadata": {},
   "outputs": [],
   "source": [
    "# Calculamos y graficamos\n",
    "corr_matrix = y_filtered.corr()\n",
    "sns.heatmap(corr_matrix);"
   ]
  },
  {
   "cell_type": "markdown",
   "id": "a377e3c6-a57b-410f-a4d5-1cf4798e9120",
   "metadata": {},
   "source": [
    "### Box Plot"
   ]
  },
  {
   "cell_type": "code",
   "execution_count": null,
   "id": "134360eb-02ad-4091-921d-2ca0a5333e1a",
   "metadata": {},
   "outputs": [],
   "source": [
    "sns.boxplot(x = \"season\", y=\"y[kW]\", data=y_filtered);"
   ]
  },
  {
   "cell_type": "markdown",
   "id": "5a1d8e01-25d5-4b5f-826a-f76af404c1f9",
   "metadata": {},
   "source": [
    "### Scatter Plot"
   ]
  },
  {
   "cell_type": "code",
   "execution_count": null,
   "id": "14979f05-3499-4f39-a1a5-ba2e8b62671a",
   "metadata": {},
   "outputs": [],
   "source": [
    "%config InlineBackend.figure_format = \"png\"\n",
    "sns.pairplot(\n",
    "    y_filtered[['y[kW]',\n",
    "                'season',\n",
    "                'date',\n",
    "                'month',\n",
    "                'year']]\n",
    ");"
   ]
  },
  {
   "cell_type": "code",
   "execution_count": null,
   "id": "dff13797-1a68-4be6-9706-f5903392faa1",
   "metadata": {},
   "outputs": [],
   "source": [
    "%config InlineBackend.figure_format = \"svg\""
   ]
  },
  {
   "cell_type": "code",
   "execution_count": null,
   "id": "d578673e-31a7-4a46-989d-0af5a57f6aa1",
   "metadata": {},
   "outputs": [],
   "source": [
    "# Sacamos las variables no-numéricas\n",
    "numerical = list(set(y_filtered.columns))"
   ]
  },
  {
   "cell_type": "code",
   "execution_count": null,
   "id": "bc578c74-f82b-4bf7-a840-206308a00077",
   "metadata": {},
   "outputs": [],
   "source": [
    "# Algunas veces se puede analizar una variable ordinal como una numerica. \n",
    "\n",
    "# fig, axes = plt.subplots(nrows=3, ncols=3, figsize=(15,10))\n",
    "# for idx, feat in enumerate(numerical):\n",
    "#     ax = axes[int(idx/4), idx % 4]\n",
    "#     sns.boxplot(x=\"season\", y=feat, data=y_filtered, ax=ax)\n",
    "#     ax.set_xlabel(\"\")\n",
    "#     ax.set_ylabel(feat)\n",
    "# fig.tight_layout();"
   ]
  },
  {
   "cell_type": "markdown",
   "id": "36e74938-eb93-4447-8f37-d9ae91400f39",
   "metadata": {},
   "source": [
    "### Graficando el consumo de energía a lo largo del tiempo"
   ]
  },
  {
   "cell_type": "code",
   "execution_count": null,
   "id": "1ece1ef6-67c3-433c-9049-920523b208fa",
   "metadata": {},
   "outputs": [],
   "source": [
    "# create figure\n",
    "fig = go.Figure()\n",
    "fig.add_trace(go.Scatter(x=y_filtered.index, y=y_filtered['y[kW]'],\n",
    "                         mode='lines', \n",
    "                         name='Filtrada'))\n",
    "\n",
    "# adjust layout\n",
    "fig.update_traces(line=dict(width=0.5))\n",
    "fig.show()"
   ]
  },
  {
   "cell_type": "code",
   "execution_count": null,
   "id": "11cc0f5d-1514-41ff-a747-add94e72dfcc",
   "metadata": {},
   "outputs": [],
   "source": [
    "# sns.countplot(x=\"y[kW]\", hue=\"season\", data=y_filtered)"
   ]
  },
  {
   "cell_type": "markdown",
   "id": "d8c7c3be-9653-46c3-89b0-d4d85ca26ff9",
   "metadata": {},
   "source": [
    "### Patrones de fecha y hora"
   ]
  },
  {
   "cell_type": "markdown",
   "id": "6cacfe2d-ea84-445a-874b-ead7ddca87b7",
   "metadata": {},
   "source": [
    "Podemos usar nuestras funciones de fecha y hora extraídas previamente <br>\n",
    "para ver si surgen patrones recurrentes de los datos agregados. <br>\n",
    "Tomemos, por ejemplo, la demanda de energía a lo largo del día para cada día de la semana:"
   ]
  },
  {
   "cell_type": "code",
   "execution_count": null,
   "id": "05fb790a-df81-4a7b-bad8-472dda67d25a",
   "metadata": {},
   "outputs": [],
   "source": [
    "# Dataframe definido para reflejar el consumo por hora en la semana, usando la mediana de energia. \n",
    "patron_1 = y_filtered.groupby(['hour', 'weekday'], as_index=False).agg({'y[kW]':'median'})\n",
    "patron_1"
   ]
  },
  {
   "cell_type": "code",
   "execution_count": null,
   "id": "3720763c-7ece-439c-bf2d-b2bd97a9fb8b",
   "metadata": {},
   "outputs": [],
   "source": [
    "fig = px.line(patron_1, \n",
    "              x = 'hour',\n",
    "              y = 'y[kW]', \n",
    "              color='weekday', \n",
    "              title='Mediana de consumo de energia por hs por día de semana ')\n",
    "\n",
    "fig.update_layout(xaxis_title='Hour', yaxis_title='Energy Demand[kW]')\n",
    "\n",
    "fig.show()"
   ]
  },
  {
   "cell_type": "code",
   "execution_count": null,
   "id": "16dfd628-8db6-4284-a855-0f1bd2b39d4a",
   "metadata": {},
   "outputs": [],
   "source": [
    "# Dataframe definido para graficar el consumo horario por temporada del año. Mediana de la energía. \n",
    "patron_2 = y_filtered.groupby(['hour', 'season'], as_index=False).agg({'y[kW]':'median'})"
   ]
  },
  {
   "cell_type": "code",
   "execution_count": null,
   "id": "6421eab9-7e93-4b8b-a3ab-1f9400ad5468",
   "metadata": {},
   "outputs": [],
   "source": [
    "fig_2 = px.line(patron_2, \n",
    "                x = 'hour',\n",
    "                y = 'y[kW]', \n",
    "                color='season', \n",
    "                title='Mediana de consumo de energia por hs por estación')\n",
    "\n",
    "fig_2.update_layout(xaxis_title='Hour', yaxis_title='Energy Demand[kW]')\n",
    "\n",
    "fig_2.show()"
   ]
  },
  {
   "cell_type": "markdown",
   "id": "7c42c492-016b-44a4-b178-d964d2bbbb33",
   "metadata": {},
   "source": [
    "## Descompoción de la serie de tiempo\n",
    "\n",
    "Los puntos que representan datos a lo largo de una serie de tiempo pueden ser interesantes <br>\n",
    "en cuanto sus patrones se complementes con tendencias de subida/bajada y/o estacionalidad. <br>\n",
    "Según la info adquirida en el EDA esto parece ser así."
   ]
  },
  {
   "cell_type": "code",
   "execution_count": null,
   "id": "13ec3f1a-16d7-488c-b4ca-c94501a5f19d",
   "metadata": {},
   "outputs": [],
   "source": [
    "print(f'El primer punto de medicion fecha/hs es: {min(y_filtered.index)}')\n",
    "print(f'El último punto de medicion fecha/hs es: {max(y_filtered.index)}')"
   ]
  },
  {
   "cell_type": "code",
   "execution_count": null,
   "id": "84e2e367-c5b1-4ef7-a074-60aede5d4325",
   "metadata": {},
   "outputs": [],
   "source": [
    "# Dataframe de recort\n",
    "CUTOFF_DATE = pd.to_datetime('2021-09-01')\n",
    "\n",
    "# Separo df p/ test y df p/ train\n",
    "train = y_filtered.loc[(y_filtered.index < CUTOFF_DATE)].copy() \n",
    "test = y_filtered.loc[y_filtered.index >= CUTOFF_DATE].copy()"
   ]
  },
  {
   "cell_type": "code",
   "execution_count": null,
   "id": "4271ff30-58f4-4bf1-9ffa-c83717857868",
   "metadata": {},
   "outputs": [],
   "source": [
    "#Se permite recortar varias fechas porque:\n",
    "#1- El comportamiento es constante en el tiempo.\n",
    "#2- Alivia la carga de procesamiento en la PC.\n",
    "print(f'Training shape: {train.shape}\\n Testing shape: {test.shape}\\n')\n",
    "print(f'Porcentaje: {(len(test)*100)/len(train):.2f}%\\n')\n",
    "print(f'Las fechas de entrenamiento son: {min(train.index)} & {max(train.index)}')\n",
    "print(f'Las fechas de test son: {min(test.index)} & {max(test.index)}')"
   ]
  }
 ],
 "metadata": {
  "kernelspec": {
   "display_name": "Python 3 (ipykernel)",
   "language": "python",
   "name": "python3"
  },
  "language_info": {
   "codemirror_mode": {
    "name": "ipython",
    "version": 3
   },
   "file_extension": ".py",
   "mimetype": "text/x-python",
   "name": "python",
   "nbconvert_exporter": "python",
   "pygments_lexer": "ipython3",
   "version": "3.9.7"
  }
 },
 "nbformat": 4,
 "nbformat_minor": 5
}
