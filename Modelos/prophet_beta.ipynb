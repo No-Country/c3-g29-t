{
 "cells": [
  {
   "cell_type": "code",
   "execution_count": null,
   "id": "6a08c5a2-7fa9-4924-a001-573d2f2788ac",
   "metadata": {},
   "outputs": [],
   "source": [
    "#Operaciones algebraicas\n",
    "import numpy as np\n",
    "\n",
    "# Para tratamiento y e/s de datos\n",
    "import pandas as pd\n",
    "\n",
    "# Gráficos de datos\n",
    "import matplotlib.pyplot as plt\n",
    "import plotly.express as px\n",
    "import plotly.graph_objects as go\n",
    "\n",
    "#filtrado para suavizar los datos\n",
    "from scipy.signal import savgol_filter"
   ]
  },
  {
   "cell_type": "code",
   "execution_count": null,
   "id": "a9f3c309-2d21-47cb-b184-981ab04abecb",
   "metadata": {},
   "outputs": [],
   "source": [
    "from prophet import Prophet\n",
    "# from fbprophet.deagnostics import cross_validation"
   ]
  },
  {
   "cell_type": "markdown",
   "id": "32594ae5-a0b8-4aeb-bebf-2c629ecd3d17",
   "metadata": {},
   "source": [
    "# Forecasting Demanda Energía (Prophet)"
   ]
  },
  {
   "cell_type": "code",
   "execution_count": null,
   "id": "df1d0eb5-aa9e-438e-82ff-313e2db05798",
   "metadata": {},
   "outputs": [],
   "source": [
    "# Importo el archivos de datos de consumo de energia en la zona este de EE.UU.\n",
    "df = pd.read_csv(r'Raw_Data/medidor_1.csv')\n",
    "df.head()"
   ]
  },
  {
   "cell_type": "code",
   "execution_count": null,
   "id": "d3747ea7-e24c-46b5-92ef-bc4d0e37093e",
   "metadata": {},
   "outputs": [],
   "source": [
    "print(df.shape)\n",
    "print('\\n')\n",
    "print(df.info())"
   ]
  },
  {
   "cell_type": "code",
   "execution_count": null,
   "id": "31d22fb7-ec7b-4cb9-9abd-7ef8c5a88251",
   "metadata": {},
   "outputs": [],
   "source": [
    "# Cambio de nombre en columnas y eliminamos otra\n",
    "df.rename(columns={'fechahora':'Datetime', 'demanda_activa':'y[kW]'}, inplace = True)\n",
    "df.drop(columns='terminal', inplace=True)\n",
    "df.head()"
   ]
  },
  {
   "cell_type": "markdown",
   "id": "24f538df-9d57-4f69-8376-d9ba67d28b4c",
   "metadata": {},
   "source": [
    "<b>Target_values: \"y[kW]\"</b>"
   ]
  },
  {
   "cell_type": "code",
   "execution_count": null,
   "id": "2a5cb20d-8102-454a-bd5d-2ffc30fbfd05",
   "metadata": {},
   "outputs": [],
   "source": [
    "#Convierto a tipo DateTimeIndex la columna \"Datetime\"\n",
    "df['Datetime'] = pd.to_datetime(df['Datetime'])\n",
    "df.sort_values(by=['Datetime'], axis = 0, ascending = True, inplace = True)\n",
    "df.reset_index(inplace = True, drop = True)\n",
    "\n",
    "df.head()"
   ]
  },
  {
   "cell_type": "code",
   "execution_count": null,
   "id": "0ce72ebc-d70c-4635-bd40-4d8e1b6a8833",
   "metadata": {},
   "outputs": [],
   "source": [
    "# Calcula algunos parámetros estadísticos solo sobre las variables de tipo float/int\n",
    "df.describe()"
   ]
  },
  {
   "cell_type": "markdown",
   "id": "caf647ff-671e-4a7c-91e7-cf13d974bb8b",
   "metadata": {},
   "source": [
    "## Limpieza de datos"
   ]
  },
  {
   "cell_type": "markdown",
   "id": "580d1fe1-e7d5-400d-84a3-ff54bf8084b1",
   "metadata": {},
   "source": [
    "### Eliminación de datos duplicados"
   ]
  },
  {
   "cell_type": "code",
   "execution_count": null,
   "id": "3cbe65af-e1d0-4a19-b6c6-5d43a0dd4cc3",
   "metadata": {},
   "outputs": [],
   "source": [
    "# De datos duplicados, solo se mantiene la medición más reciente. \n",
    "df.drop_duplicates(subset = 'Datetime', keep = 'last', inplace = True)\n",
    "df.shape"
   ]
  },
  {
   "cell_type": "markdown",
   "id": "b07b5554-4b34-4737-942c-bff6b79dd4d5",
   "metadata": {},
   "source": [
    "### Tratamiento de espacios vacios para un grupo de datos continuos"
   ]
  },
  {
   "cell_type": "code",
   "execution_count": null,
   "id": "6cec5dba-e2bb-4b76-af08-00f6e99884aa",
   "metadata": {},
   "outputs": [],
   "source": [
    "df_2 = df.set_index('Datetime')\n",
    "df_2.drop(['2017-08-18 09:15:00'], inplace = True)\n",
    "df_2"
   ]
  },
  {
   "cell_type": "code",
   "execution_count": null,
   "id": "8c2d689a-57c1-47c9-9501-15b8054b3537",
   "metadata": {},
   "outputs": [],
   "source": [
    "print(df_2.index.min())\n",
    "print(df_2.index.max())"
   ]
  },
  {
   "cell_type": "code",
   "execution_count": null,
   "id": "ce519ad8-cfd2-42ce-b931-bedd316f21ae",
   "metadata": {},
   "outputs": [],
   "source": [
    "print(f'df_2.index.freq is set to: {df_2.index.freq}')"
   ]
  },
  {
   "cell_type": "markdown",
   "id": "5f0de2cb-e12b-47f2-b82f-c9f63a2069ce",
   "metadata": {},
   "source": [
    "<i>\n",
    "Tener un dataset con frecuencia en \"None\" indica \n",
    "que existen datos que perdidos (missing). <br>\n",
    "Para verificar lo dicho, podemos comparar con un rango de datos\n",
    "custom e ininterrumpido\n",
    "</i>"
   ]
  },
  {
   "cell_type": "code",
   "execution_count": null,
   "id": "1dae01f0-f95f-4bef-82b1-fab0a2904c64",
   "metadata": {},
   "outputs": [],
   "source": [
    "# Custom range\n",
    "data_range = pd.date_range(start = min(df_2.index),\n",
    "                          end = max(df_2.index),\n",
    "                          freq = '15min') \n",
    "#freq = '15min' indica frecuencia por hora.\n",
    "#Explicación: genero un dataframe con una frecuencia horaria desde el valor minimo del index (datetime)\n",
    "#del dataframe original, y con el valor máximo del index. Con esto lo que obtengo es TODO EL CALENDARIO\n",
    "#sin datos perdidos. \n",
    "#Al hacer mas adelante la diferencia entre ambos dataframe, voy a obtener los \"días perdidos\" del dataframe original. \n",
    "# https://pandas.pydata.org/docs/user_guide/timeseries.html#timeseries-offset-aliases\n",
    "data_range"
   ]
  },
  {
   "cell_type": "code",
   "execution_count": null,
   "id": "17a2bcd2-181a-4036-936f-0a6d744ada37",
   "metadata": {},
   "outputs": [],
   "source": [
    "print(data_range.difference(df_2.index))\n",
    "print('\\n')\n",
    "print(f'La diferencia de longitud entre el rango customizado de datos y nuestro dataset es {(len(data_range)-len(df_2))}')"
   ]
  },
  {
   "cell_type": "markdown",
   "id": "8ca14029-1f33-4fa8-a3cc-f4f30492d6d1",
   "metadata": {},
   "source": [
    "<i>Lo que ese numero indica es la cantidad de puntos en el tiempo perdidos dentro del conjunto de datos</i>"
   ]
  },
  {
   "cell_type": "markdown",
   "id": "7903729c-3a8e-499c-9991-bf2c91fd1ec8",
   "metadata": {},
   "source": [
    "## Filtro savgol_filter"
   ]
  },
  {
   "cell_type": "code",
   "execution_count": null,
   "id": "e49c473f-e070-4b9e-9d22-309cb3e4ac4b",
   "metadata": {},
   "outputs": [],
   "source": [
    "# Datos sin filtrar\n",
    "fig = go.Figure()\n",
    "fig.add_trace(go.Scatter(x=df_2.index, y=df_2['y[kW]'],\n",
    "                         mode='lines',\n",
    "                         name='Datos'))\n",
    "\n",
    "# adjust layout\n",
    "fig.update_traces(line=dict(width=0.5))\n",
    "fig.show()"
   ]
  },
  {
   "cell_type": "code",
   "execution_count": null,
   "id": "87bc9e87-9604-4854-8f4c-fbe8e738a961",
   "metadata": {},
   "outputs": [],
   "source": [
    "# Aplica filtro elegido en base a buscar cual mejor se adecua\n",
    "y_filtered = df_2[[\"y[kW]\"]].apply(savgol_filter,  window_length=5, polyorder=3)"
   ]
  },
  {
   "cell_type": "code",
   "execution_count": null,
   "id": "d10e626b-befd-4182-a4ea-880c63a4f690",
   "metadata": {},
   "outputs": [],
   "source": [
    "# create figure\n",
    "fig = go.Figure()\n",
    "fig.add_trace(go.Scatter(x=df_2.index,y=df_2['y[kW]'],\n",
    "                         mode='lines',\n",
    "                         name='No Filtrada'))\n",
    "fig.add_trace(go.Scatter(x=y_filtered.index, y=y_filtered['y[kW]'],\n",
    "                         mode='lines', \n",
    "                         name='Filtrada'))\n",
    "\n",
    "# adjust layout\n",
    "fig.update_traces(line=dict(width=0.5))\n",
    "fig.show()"
   ]
  },
  {
   "cell_type": "code",
   "execution_count": null,
   "id": "e6501d6f-dc49-4fd8-a46a-612b84c37346",
   "metadata": {},
   "outputs": [],
   "source": [
    "y_filtered.head()"
   ]
  },
  {
   "cell_type": "code",
   "execution_count": null,
   "id": "5ffae6af-72c0-40e6-bfdc-d6aede6f2493",
   "metadata": {},
   "outputs": [],
   "source": [
    "y_filtered.info()"
   ]
  },
  {
   "cell_type": "markdown",
   "id": "2b681e77-55a3-4f86-8c2a-e8d60085d3e0",
   "metadata": {},
   "source": [
    "## Gráfico de distribución"
   ]
  },
  {
   "cell_type": "code",
   "execution_count": null,
   "id": "25f1a3a2-e16b-4349-932f-3d62f18589e6",
   "metadata": {},
   "outputs": [],
   "source": [
    "features_num = [\"y[kW]\"]\n",
    "y_filtered[features_num].hist(figsize=(10,4)); #el ; es para evitar una grafica duplicada"
   ]
  }
 ],
 "metadata": {
  "kernelspec": {
   "display_name": "Python 3 (ipykernel)",
   "language": "python",
   "name": "python3"
  },
  "language_info": {
   "codemirror_mode": {
    "name": "ipython",
    "version": 3
   },
   "file_extension": ".py",
   "mimetype": "text/x-python",
   "name": "python",
   "nbconvert_exporter": "python",
   "pygments_lexer": "ipython3",
   "version": "3.9.7"
  }
 },
 "nbformat": 4,
 "nbformat_minor": 5
}
