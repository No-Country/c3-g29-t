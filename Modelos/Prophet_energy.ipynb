{
 "cells": [
  {
   "cell_type": "code",
   "execution_count": null,
   "id": "bdcce2ca-af65-41de-8732-1e41beacb53b",
   "metadata": {},
   "outputs": [],
   "source": [
    "import numpy as np\n",
    "\n",
    "# Para tratamiento y e/s de datos\n",
    "import pandas as pd\n",
    "\n",
    "# Gráficos de datos\n",
    "import matplotlib.pyplot as plt\n",
    "import plotly.express as px\n",
    "import plotly.graph_objects as go\n",
    "\n",
    "#filtrado para suavizar los datos\n",
    "from scipy.signal import savgol_filter"
   ]
  },
  {
   "cell_type": "code",
   "execution_count": null,
   "id": "59a620f0-c390-4e01-8463-4bb63718591c",
   "metadata": {},
   "outputs": [],
   "source": [
    "from prophet import Prophet\n",
    "# from fbprophet.deagnostics import cross_validation"
   ]
  },
  {
   "cell_type": "markdown",
   "id": "4ed91adf-dd0e-44bc-a7c7-25df0bc458fb",
   "metadata": {},
   "source": [
    "# Forecasting Demanda Energía (Prophet)"
   ]
  },
  {
   "cell_type": "code",
   "execution_count": null,
   "id": "44ba8e0d-bf9e-4345-a603-c3bfecb956e2",
   "metadata": {},
   "outputs": [],
   "source": [
    "# Importo el archivos de datos de consumo de energia en la zona este de EE.UU.\n",
    "df = pd.read_csv(r'Raw_Data/medidor_1.csv')"
   ]
  },
  {
   "cell_type": "code",
   "execution_count": null,
   "id": "9504639f-9069-4400-b1f9-22ba5e907400",
   "metadata": {},
   "outputs": [],
   "source": [
    "print(df.head())\n",
    "print('\\n')\n",
    "print(df.shape[0])"
   ]
  },
  {
   "cell_type": "code",
   "execution_count": null,
   "id": "b1f69e6b-3a23-44c2-b386-e8411ee377d6",
   "metadata": {},
   "outputs": [],
   "source": [
    "# Cambio de nombre en columnas y eliminamos otra\n",
    "df.rename(columns={'fechahora':'Datetime', 'demanda_activa':'y[kW]'}, inplace = True)\n",
    "df.drop(columns='terminal', inplace=True)"
   ]
  },
  {
   "cell_type": "code",
   "execution_count": null,
   "id": "3d81c610-583e-48ce-a5e4-8757d4d6a99a",
   "metadata": {},
   "outputs": [],
   "source": [
    "#Target_values: \"y[kW]\""
   ]
  },
  {
   "cell_type": "code",
   "execution_count": null,
   "id": "3785c049-7ce4-4149-bb2f-6a9731f24158",
   "metadata": {},
   "outputs": [],
   "source": [
    "#Convierto a tipo DateTimeIndex la columna \"Datetime\"\n",
    "df['Datetime'] = pd.to_datetime(df['Datetime'])\n",
    "df.sort_values(by=['Datetime'], axis = 0, ascending = True, inplace = True)\n",
    "df.reset_index(inplace = True, drop = True)"
   ]
  },
  {
   "cell_type": "code",
   "execution_count": null,
   "id": "caecd6d0-73a9-4c4f-ab25-0eb88a771c27",
   "metadata": {},
   "outputs": [],
   "source": [
    "df.head()"
   ]
  },
  {
   "cell_type": "markdown",
   "id": "c681988d-d606-4817-99f2-eec1da8d7bfd",
   "metadata": {},
   "source": [
    "## Limpieza de datos"
   ]
  },
  {
   "cell_type": "markdown",
   "id": "7a10a3de-31d7-46fb-bbd3-c9a071446215",
   "metadata": {},
   "source": [
    "### Eliminación de datos duplicados"
   ]
  },
  {
   "cell_type": "code",
   "execution_count": null,
   "id": "c3cc94f2-cb88-48c5-b4a7-61688a91d04e",
   "metadata": {},
   "outputs": [],
   "source": [
    "# De datos duplicados, solo se mantiene la medición más reciente. \n",
    "df.drop_duplicates(subset = 'Datetime', keep = 'last', inplace = True)"
   ]
  },
  {
   "cell_type": "markdown",
   "id": "a60953ec-9821-4fc9-bd78-f5a3df89eef1",
   "metadata": {},
   "source": [
    "### Tratamiento de espacios vacios para un grupo de datos continuos"
   ]
  },
  {
   "cell_type": "code",
   "execution_count": null,
   "id": "6f9833d4-a49e-4269-a890-1a7a6169de62",
   "metadata": {},
   "outputs": [],
   "source": [
    "df_2 = df.set_index('Datetime')\n",
    "df_2.drop(['2017-08-18 09:15:00'], inplace = True)"
   ]
  },
  {
   "cell_type": "code",
   "execution_count": null,
   "id": "ab4cdc78-79f6-4a0c-9f7f-87234613af83",
   "metadata": {},
   "outputs": [],
   "source": [
    "print(df_2.index.min())\n",
    "print(df_2.index.max())"
   ]
  },
  {
   "cell_type": "code",
   "execution_count": null,
   "id": "bf169c09-27c1-4aa0-87d3-e22e5433a63d",
   "metadata": {},
   "outputs": [],
   "source": [
    "print(f'df_2.index.freq is set to: {df_2.index.freq}')"
   ]
  },
  {
   "cell_type": "markdown",
   "id": "8d6b8395-0628-4623-95f6-dce47beeaf80",
   "metadata": {},
   "source": [
    "<i>\n",
    "Tener un dataset con frecuencia en \"None\" indica \n",
    "que existen datos que perdidos (missing). <br>\n",
    "Para verificar lo dicho, podemos comparar con un rango de datos\n",
    "custom e ininterrumpido\n",
    "</i>"
   ]
  },
  {
   "cell_type": "code",
   "execution_count": null,
   "id": "3c5aca0f-6439-4501-a4f2-a59daa56fdde",
   "metadata": {},
   "outputs": [],
   "source": [
    "# Custom range\n",
    "data_range = pd.date_range(start = min(df_2.index),\n",
    "                          end = max(df_2.index),\n",
    "                          freq = '15min') \n",
    "#freq = '15min' indica frecuencia por hora.\n",
    "#Explicación: genero un dataframe con una frecuencia horaria desde el valor minimo del index (datetime)\n",
    "#del dataframe original, y con el valor máximo del index. Con esto lo que obtengo es TODO EL CALENDARIO\n",
    "#sin datos perdidos. \n",
    "#Al hacer mas adelante la diferencia entre ambos dataframe, voy a obtener los \"días perdidos\" del dataframe original. \n",
    "# https://pandas.pydata.org/docs/user_guide/timeseries.html#timeseries-offset-aliases\n",
    "data_range"
   ]
  },
  {
   "cell_type": "code",
   "execution_count": null,
   "id": "47873831-ecd2-421b-8408-ff8a9a17278e",
   "metadata": {},
   "outputs": [],
   "source": [
    "print(f'La diferencia de longitud entre el rango customizado de datos y nuestro dataset es {(len(data_range)-len(df_2))}')"
   ]
  },
  {
   "cell_type": "code",
   "execution_count": null,
   "id": "647a5b33-7afc-4808-a840-426cddb3711f",
   "metadata": {},
   "outputs": [],
   "source": [
    "#la diferencia entre ambos df indica la cantidad de valores perdidos en el df_original\n",
    "print(data_range.difference(df_2.index))"
   ]
  },
  {
   "cell_type": "code",
   "execution_count": null,
   "id": "8526cd25-8217-43e9-b047-6151f8c49da4",
   "metadata": {},
   "outputs": [],
   "source": [
    "# El siguiente comando adjunta los datos \"datetime\" perdidos (missing) al dataset original\n",
    "# pero va a generar valores NaN para la variable Target (y[kW])\n",
    "df_3 = df_2.reindex(data_range)\n",
    "\n",
    "# Llenamos estos valores blancos con valores que se encuentran en una curva lineal entre puntos de datos existentes\n",
    "df_3['y[kW]'].interpolate(method='linear', inplace=True)\n",
    "\n",
    "# Con la interpolación se tiene un datetime (set de hora y dias) continuo\n",
    "print(f'La df.index.freq ahora es: {df_3.index.freq}, indicando que ya no tenemos valores perdidos')\n",
    "print(df_3.shape[0])"
   ]
  },
  {
   "cell_type": "code",
   "execution_count": null,
   "id": "402e2926-f484-4e28-ad56-fbbdbfcc84bb",
   "metadata": {},
   "outputs": [],
   "source": [
    "df_3.head()"
   ]
  },
  {
   "cell_type": "markdown",
   "id": "3536e061-5a65-4be0-a6b3-9ffe407c0e79",
   "metadata": {},
   "source": [
    "## Filtro savgol_filter"
   ]
  },
  {
   "cell_type": "code",
   "execution_count": null,
   "id": "f8231094-5747-4033-a0de-eda50ebf3357",
   "metadata": {},
   "outputs": [],
   "source": [
    "# Datos sin filtrar\n",
    "fig = go.Figure()\n",
    "fig.add_trace(go.Scatter(x=df_3.index, y=df_3['y[kW]'],\n",
    "                         mode='lines',\n",
    "                         name='Datos'))\n",
    "\n",
    "# adjust layout\n",
    "fig.update_traces(line=dict(width=0.5))\n",
    "fig.show()"
   ]
  },
  {
   "cell_type": "code",
   "execution_count": null,
   "id": "4bcc6d4d-cabf-4953-8d78-059a1514d55d",
   "metadata": {},
   "outputs": [],
   "source": [
    "y_filtered = df_3[[\"y[kW]\"]].apply(savgol_filter,  window_length=5, polyorder=3)\n",
    "# y_filtered.head()"
   ]
  },
  {
   "cell_type": "code",
   "execution_count": null,
   "id": "07757842-1d44-4439-a275-0cfa24e50924",
   "metadata": {},
   "outputs": [],
   "source": [
    "# create figure\n",
    "fig = go.Figure()\n",
    "fig.add_trace(go.Scatter(x=df_3.index,y=df_3['y[kW]'],\n",
    "                         mode='lines',\n",
    "                         name='No Filtrada'))\n",
    "fig.add_trace(go.Scatter(x=y_filtered.index, y=y_filtered['y[kW]'],\n",
    "                         mode='lines', \n",
    "                         name='Filtrada'))\n",
    "\n",
    "# adjust layout\n",
    "fig.update_traces(line=dict(width=0.5))\n",
    "fig.show()"
   ]
  },
  {
   "cell_type": "markdown",
   "id": "c49f91fe-1fbe-4517-82fe-5a3829062c44",
   "metadata": {},
   "source": [
    "### Extraemos características de la variable Tiempo"
   ]
  },
  {
   "cell_type": "markdown",
   "id": "52c97e40-9976-453c-983b-110022723b28",
   "metadata": {},
   "source": [
    "<i>\n",
    "Podemos dividir la columna de Datetime en sus diferentes componentes. <br>\n",
    "Esto nos permite encontrar patrones para diferentes grupos.\n",
    "</i>"
   ]
  },
  {
   "cell_type": "code",
   "execution_count": null,
   "id": "74af7878-c577-49fb-b84d-97c6991b2d13",
   "metadata": {},
   "outputs": [],
   "source": [
    "y_filtered['dow'] = y_filtered.index.day_of_week\n",
    "y_filtered['doy'] = y_filtered.index.day_of_year\n",
    "y_filtered['year'] = y_filtered.index.year\n",
    "y_filtered['month'] = y_filtered.index.month\n",
    "y_filtered['quarter'] = y_filtered.index.quarter\n",
    "y_filtered['hour'] = y_filtered.index.hour\n",
    "y_filtered['weekday'] = y_filtered.index.day_name()\n",
    "y_filtered['woy'] = y_filtered.index.isocalendar().week #week of year\n",
    "y_filtered['dom'] = y_filtered.index.day # Day of Month\n",
    "y_filtered['date'] = y_filtered.index.date \n",
    "\n",
    "# número de estación del año\n",
    "y_filtered['season'] = y_filtered['month'].apply(lambda month_number: (month_number%12 + 3)//3) \n",
    "# el operador aritmético // solo devuelve a parte entera de la división."
   ]
  },
  {
   "cell_type": "markdown",
   "id": "0cb740df-87b5-4c24-a0f9-975505708bfb",
   "metadata": {},
   "source": [
    "## EDA"
   ]
  },
  {
   "cell_type": "markdown",
   "id": "dd5a8675-133c-41fc-abf5-82e1bbb57d59",
   "metadata": {},
   "source": [
    "### Graficando el consumo de energía a lo largo del tiempo"
   ]
  },
  {
   "cell_type": "code",
   "execution_count": null,
   "id": "214cd085-8109-48b0-ba6c-cf5b5e51e9a9",
   "metadata": {},
   "outputs": [],
   "source": [
    "#Plotyle no permite acceso directo a los index del df. ?????\n",
    "y_filtered['date_and_time'] = y_filtered.index \n",
    "\n",
    "#Plotting\n",
    "fig = px.line(y_filtered, x=['date_and_time'], y='y[kW]', title=f'Demanda kW por tiempo [{min(y_filtered.year)} - {max(y_filtered.year)}]')\n",
    "fig.update_traces(line=dict(width=0.3))\n",
    "fig.update_layout(xaxis_title='Date & Time', yaxis_title='Demanda Energía [kW]')\n",
    "fig.show()"
   ]
  },
  {
   "cell_type": "code",
   "execution_count": null,
   "id": "cc034f45-8a0e-4867-8c2f-c4a8de471ba3",
   "metadata": {},
   "outputs": [],
   "source": [
    "# Estudiando la gráfica se observa un comportamiento con patron en temporadas (estación del año). "
   ]
  },
  {
   "cell_type": "code",
   "execution_count": null,
   "id": "f4601973-766e-495e-9752-ab8bc50f2441",
   "metadata": {},
   "outputs": [],
   "source": [
    "#Se puede y debe comparar con la gráfica expuesta en Mr.Dims para verificar. "
   ]
  },
  {
   "cell_type": "markdown",
   "id": "63921db0-63bb-4885-9c88-bc0c05e37874",
   "metadata": {},
   "source": [
    "### Patrones de demanda"
   ]
  },
  {
   "cell_type": "code",
   "execution_count": null,
   "id": "e5c1c657-f9ea-4b4c-8fd0-f08b6a2d18d7",
   "metadata": {},
   "outputs": [],
   "source": [
    "#Podemos usar nuestras funciones de fecha y hora extraídas previamente \n",
    "#para ver si surgen patrones recurrentes de los datos agregados. \n",
    "#Tomemos, por ejemplo, la demanda de energía a lo largo del día para cada día de la semana:"
   ]
  },
  {
   "cell_type": "code",
   "execution_count": null,
   "id": "dc46568a-d56f-40cc-88bf-391188be2980",
   "metadata": {},
   "outputs": [],
   "source": [
    "##### Gráfica de consumo anual\n",
    "\n",
    "#grupo de datos por años\n",
    "groups = y_filtered['y[kW]'].groupby(pd.Grouper(freq='A'))\n",
    "\n",
    "#Configuración de los ejes\n",
    "fig, axs = plt.subplots(len(groups), 1, figsize=(15,15))\n",
    "\n",
    "\n",
    "for ax, (name, group) in zip(axs, groups):\n",
    "    \n",
    "    #grafica\n",
    "    ax.plot(pd.Series(group.values))\n",
    "\n",
    "    ax.set_xlabel('Hora del año')\n",
    "    ax.set_ylabel('Consumo total')\n",
    "    ax.set_title(name.year)\n",
    "    plt.subplots_adjust(hspace=0.5)"
   ]
  },
  {
   "cell_type": "code",
   "execution_count": null,
   "id": "7fb2e28f-9a2e-4aa3-8bfe-ab4887a2e56d",
   "metadata": {},
   "outputs": [],
   "source": [
    "### plot the monthly demand variability. Looking for seasonal effects\n",
    "\n",
    "fig, axs = plt.subplots(1, 2, figsize=(30,10))\n",
    "\n",
    "for ax, col in zip(axs, df_3.columns):\n",
    "    \n",
    "    groups = df_3[col].groupby(pd.Grouper(freq='M'))\n",
    "    \n",
    "    df = pd.DataFrame()\n",
    "    \n",
    "    for name, group in groups:\n",
    "        df[name.month] = pd.Series(group.values)\n",
    "\n",
    "    df.boxplot(ax=ax)\n",
    "    ax.set_xlabel('Month Year')\n",
    "    ax.set_ylabel('Energy Demanded MWh')\n",
    "    ax.set_title(col)\n",
    "    plt.subplots_adjust(hspace=1)\n",
    "    \n",
    "    \n",
    "plt.show()"
   ]
  },
  {
   "cell_type": "code",
   "execution_count": null,
   "id": "7cdf48a1-6c75-460d-9cfd-3bbbd38e7c46",
   "metadata": {},
   "outputs": [],
   "source": [
    "# Dataframe definido para reflejar el consumo por hora en la semana, usando la mediana de energia. \n",
    "patron_1 = y_filtered.groupby(['hour', 'weekday'], as_index=False).agg({'y[kW]':'median'})\n",
    "# patron_1"
   ]
  },
  {
   "cell_type": "code",
   "execution_count": null,
   "id": "7fc53784-c5bf-4b83-aedc-fb4ec7f658a6",
   "metadata": {},
   "outputs": [],
   "source": [
    "fig = px.line(patron_1, \n",
    "              x = 'hour',\n",
    "              y = 'y[kW]', \n",
    "              color='weekday', \n",
    "              title='Mediana de consumo de energia por hs por día de semana ')\n",
    "\n",
    "fig.update_layout(xaxis_title='Hour', yaxis_title='Energy Demand[kW]')\n",
    "\n",
    "fig.show()"
   ]
  },
  {
   "cell_type": "code",
   "execution_count": null,
   "id": "af72f13b-1c27-4111-bf7e-6f5d40bcc875",
   "metadata": {},
   "outputs": [],
   "source": [
    "# Dataframe definido para graficar el consumo horario por temporada del año. Mediana de la energía. \n",
    "patron_2 = y_filtered.groupby(['hour', 'season'], as_index=False).agg({'y[kW]':'median'})\n",
    "# patron_2"
   ]
  },
  {
   "cell_type": "code",
   "execution_count": null,
   "id": "87461452-44b3-4042-bf07-8923d5991eea",
   "metadata": {},
   "outputs": [],
   "source": [
    "fig_2 = px.line(patron_2, \n",
    "                x = 'hour',\n",
    "                y = 'y[kW]', \n",
    "                color='season', \n",
    "                title='Mediana de consumo de energia por hs por estación')\n",
    "\n",
    "fig_2.update_layout(xaxis_title='Hour', yaxis_title='Energy Demand[kW]')\n",
    "\n",
    "fig_2.show()"
   ]
  },
  {
   "cell_type": "code",
   "execution_count": null,
   "id": "890cc6da-f1e3-4487-bfd5-02451b4ea062",
   "metadata": {},
   "outputs": [],
   "source": [
    "# Durante el verano le dan duro al aire acondicionado. "
   ]
  },
  {
   "cell_type": "markdown",
   "id": "ec32e191-6dca-4f2a-9d9b-90fa6283c17a",
   "metadata": {},
   "source": [
    "## Partición de la serie de tiempo"
   ]
  },
  {
   "cell_type": "code",
   "execution_count": null,
   "id": "1e0e535a-83a7-4c34-b56d-d5ed836ac72e",
   "metadata": {},
   "outputs": [],
   "source": [
    "# Los puntos que representan datos a lo largo de una serie de tiempo pueden ser interesantes \n",
    "# en cuanto sus patrones se complementes con tendencias de subida/bajada y/o estacionalidad. \n",
    "# Según la info adquirida en el EDA esto parece ser así."
   ]
  },
  {
   "cell_type": "code",
   "execution_count": null,
   "id": "fd132761-de2f-43e1-b90a-11e553bd3c3a",
   "metadata": {},
   "outputs": [],
   "source": [
    "print(f'El primer punto de medicion fecha/hs es: {min(y_filtered.index)}')\n",
    "print(f'El último punto de medicion fecha/hs es: {max(y_filtered.index)}')"
   ]
  },
  {
   "cell_type": "code",
   "execution_count": null,
   "id": "eb2dc102-a59b-41fe-922a-1b87fc943084",
   "metadata": {},
   "outputs": [],
   "source": [
    "# Dataframe de recort\n",
    "CUTOFF_DATE = pd.to_datetime('2021-03-21')\n",
    "# STOP_DATE_1 = pd.to_datetime('2019-01-01')\n",
    "# STOP_DATE_2 = pd.to_datetime('2022-01-01 00:00:00')\n",
    "\n",
    "# Separo df p/ test y df p/ train\n",
    "train = y_filtered.loc[(y_filtered.index < CUTOFF_DATE)].copy()  #& (y_filtered.index >= STOP_DATE_1)\n",
    "test = y_filtered.loc[(y_filtered.index >= CUTOFF_DATE)].copy() #& (y_filtered.index <= STOP_DATE_2)"
   ]
  },
  {
   "cell_type": "code",
   "execution_count": null,
   "id": "a7500b27-cfb6-4f96-80ce-5e99d73670eb",
   "metadata": {},
   "outputs": [],
   "source": [
    "#Se permite recortar varias fechas porque:\n",
    "#1- El comportamiento es constante en el tiempo.\n",
    "#2- Alivia la carga de procesamiento en la PC.\n",
    "print(f'Training shape: {train.shape}\\n Testing shape: {test.shape}\\n')\n",
    "\n",
    "print(f'Proporción del train-test: {((len(test)*100)/len(y_filtered)):.2f}%\\n') \n",
    "\n",
    "print(f'Las fechas de entrenamiento son: {min(train.index)} & {max(train.index)}')\n",
    "print(f'Las fechas de test son: {min(test.index)} & {max(test.index)}')"
   ]
  },
  {
   "cell_type": "markdown",
   "id": "69d6a118-e453-4d46-9e9d-567196522834",
   "metadata": {},
   "source": [
    "# Prophet\n",
    "\n",
    "Es un modelo de pronóstico de series de tiempo, diseñado para manejar las características comunes\n",
    "en las series de tiempo implementadas hoy en día. <br>\n",
    "La idea del modelo Prophet es ser accesible y ajustable sin necesitar tener conocimientos de lo que pasa\n",
    "detrás del telón respecto al funcionamiento matemático de la serie de tiempo. <br>\n",
    "Tecnicamente hablando, es una serie de tiempo descompuesta en tres términos:\n",
    "<i>y(t) = g(t)+s(t)+h(t)+et</i>\n",
    "<ul>\n",
    "<li>g(t): trend\n",
    "    <blockquote> \n",
    "        Función de tendencia que modela cambios no-periodicos en los valores de la serie de tiempo.\n",
    "    </blockquote>\n",
    "    </li> \n",
    "<li>s(t): seasonality\n",
    "    <blockquote>   \n",
    "        Función que representa cambios periodicos. \n",
    "    </blockquote>\n",
    "    </li> \n",
    "<li>h(t): holidays\n",
    "    <blockquote>  \n",
    "        Función que representa los efectos de los días de vacaciones/feriados/findes.\n",
    "    </blockquote>\n",
    "    </li>\n",
    "<li>et: Término de error. \n",
    "    <blockquote>  \n",
    "        Representa cualquier cambio idiosincracico (herencia). Se supone normalmente distribuido. \n",
    "    </blockquote>\n",
    "    </li>\n",
    "</ul>"
   ]
  },
  {
   "cell_type": "markdown",
   "id": "1bce5800-7680-4ed7-92d9-3ade71e4cf11",
   "metadata": {},
   "source": [
    "Docs Oficiales (muy utiles): __[PROPHET_DOCS](https://facebook.github.io/prophet/docs/quick_start.html)__<BR>\n",
    "Teoría: __[Forecasting at Scale(pdf)](https://www.kaggle.com/robinteuwens/forecasting-energy-demand/notebook)__ <br>\n",
    "Practica: __[Forecasting con Prophet](https://nextjournal.com/eric-brown/forecasting-with-prophet)__ "
   ]
  },
  {
   "cell_type": "code",
   "execution_count": null,
   "id": "0c488572-89a9-4d88-994e-7184a9802b74",
   "metadata": {},
   "outputs": [],
   "source": [
    "# Formato de datos para el modelo de Prophet \n",
    "train_prophet = train[['y[kW]']].reset_index().rename(columns = {'index': 'ds', 'y[kW]': 'y'})\n",
    "test_prophet = test[['y[kW]']].reset_index().rename(columns = {'index': 'ds', 'y[kW]': 'y'})\n",
    "test_prophet.info()"
   ]
  },
  {
   "cell_type": "code",
   "execution_count": null,
   "id": "33fda356-03cb-48a3-8dc2-70a9bf35b341",
   "metadata": {},
   "outputs": [],
   "source": [
    "print(train_prophet.head())\n",
    "print('\\n')\n",
    "print(test_prophet.head())"
   ]
  },
  {
   "cell_type": "code",
   "execution_count": null,
   "id": "aecd1f95-738a-4314-b6fb-ba9dd66fab30",
   "metadata": {},
   "outputs": [],
   "source": [
    "f, ax = plt.subplots(figsize=(14,5))\n",
    "train_prophet.plot(kind='line', x='ds', y='y', color='blue', label='Train', ax=ax)\n",
    "test_prophet.plot(kind='line', x='ds', y='y', color='red', label='Test', ax=ax)\n",
    "plt.title('Energía demandada: Traning and Test data')\n",
    "plt.show()"
   ]
  },
  {
   "cell_type": "markdown",
   "id": "4c1c8e63-7831-481f-abb4-096a0c5bc9d5",
   "metadata": {},
   "source": [
    "## Extensión del dataframe en tiempo"
   ]
  },
  {
   "cell_type": "code",
   "execution_count": null,
   "id": "50dc2752-a442-419a-9fa5-fe75a1e84e83",
   "metadata": {},
   "outputs": [],
   "source": [
    "# from datetime import datetime, timedelta\n",
    "\n",
    "# inicio = datetime(2022,2,1) \n",
    "# fin = datetime(2020,1,1)\n",
    "\n",
    "# lista_fechas = [(inicio + timedelat(hour=h)) for h in range(((fin-inicio).days + 1)*24)]\n",
    "\n",
    "# print(f'Se agregarán: {(max(lista_fechas)-min(lista_fechas))*24}')\n",
    "# print(min(lista_fechas))\n",
    "# print(max(lista_fechas))"
   ]
  },
  {
   "cell_type": "code",
   "execution_count": null,
   "id": "8ce19957-348e-4155-abdb-c6db158ddcbd",
   "metadata": {},
   "outputs": [],
   "source": [
    "# fechas_extras = pd.DataFrame(lista_fechas).rename(columns = {0: 'ds'})\n",
    "# fechas_extras.head()"
   ]
  },
  {
   "cell_type": "code",
   "execution_count": null,
   "id": "9bfdcf11-8b74-40d4-abbb-2859bdc43845",
   "metadata": {},
   "outputs": [],
   "source": [
    "#ACÁ AGREGA TRATAMIENTO DE INTERVALO POR 15'"
   ]
  },
  {
   "cell_type": "code",
   "execution_count": null,
   "id": "884795e7-b6c0-409d-9926-b8e9a16a7920",
   "metadata": {},
   "outputs": [],
   "source": [
    "# test_prophet_2 = pd.concat([test_prophet, fechas_extras])\n",
    "# test_prophet_2.reset_index(inplace = True, drop = True)\n",
    "# # De datos duplicados, solo se mantiene la medición más reciente. \n",
    "# test_prophet_2.drop_duplicates(subset = 'ds', keep = 'last', inplace = True)\n",
    "# test_prophet_2.info()"
   ]
  },
  {
   "cell_type": "markdown",
   "id": "d5a9715d-123c-4148-80a4-827beb6dbb6d",
   "metadata": {},
   "source": [
    "## Conditional Seasonalities"
   ]
  },
  {
   "cell_type": "markdown",
   "id": "30fcbf01-d595-4741-a402-5f0bd5b42120",
   "metadata": {},
   "source": [
    "__Teoría (fundamentos): ['How does Prophet work?'](https://medium.com/analytics-vidhya/how-does-prophet-work-part-2-c47a6ceac511)__"
   ]
  },
  {
   "cell_type": "markdown",
   "id": "06a680a6-a487-4522-a95f-995b7a09c50d",
   "metadata": {},
   "source": [
    "<blockquote>\n",
    "In some instances the seasonality may depend on other factors, such as a weekly seasonal pattern that is different during the summer than it is during the rest of the year, or a daily seasonal pattern that is different on weekends vs. on weekdays. These types of seasonalities can be modeled using conditional seasonalities.\n",
    "</blockquote>"
   ]
  },
  {
   "cell_type": "code",
   "execution_count": null,
   "id": "8fabbfa3-16fa-4dff-8093-6302f7686a9d",
   "metadata": {},
   "outputs": [],
   "source": [
    "# Del EDA podemos observar que la variación diaria en estaciones es mayor en Verano e Invierno (obviamente). \n",
    "# Destripemos los patrones de los datos para tener en cuenta la interdependencia de estas variables."
   ]
  },
  {
   "cell_type": "code",
   "execution_count": null,
   "id": "448a5b2e-3641-4160-ba7f-c049f144814a",
   "metadata": {},
   "outputs": [],
   "source": [
    "# Condiciones\n",
    "def is_spring(ds): \n",
    "    date = pd.to_datetime(ds)    \n",
    "    return (date.month >= 3) & (date.month <=5)\n",
    "\n",
    "def is_summer(ds): \n",
    "    date = pd.to_datetime(ds)\n",
    "    return (date.month >= 6) & (date.month <=8)\n",
    "\n",
    "def is_autumn(ds): \n",
    "    date = pd.to_datetime(ds)\n",
    "    return (date.month >= 9) & (date.month <=11)\n",
    "\n",
    "# La lógica fallaba, tuve que corregir. \n",
    "def is_winter(ds): \n",
    "    date = pd.to_datetime(ds)\n",
    "    return (date.month == 12) | (date.month <=2)\n",
    "\n",
    "# A esta función la hice de una forma distinta para que ande bien.\n",
    "def is_weekend(ds):     \n",
    "    return ds.dayofweek in (5, 6)"
   ]
  },
  {
   "cell_type": "code",
   "execution_count": null,
   "id": "afc053ae-09ff-4758-b413-0f0c29e100cc",
   "metadata": {},
   "outputs": [],
   "source": [
    "# agregamos al set de entrenamiento\n",
    "train_prophet['is_spring'] = train_prophet['ds'].apply(is_spring)\n",
    "train_prophet['is_summer'] = train_prophet['ds'].apply(is_summer)\n",
    "train_prophet['is_autumn'] = train_prophet['ds'].apply(is_autumn)\n",
    "train_prophet['is_winter'] = train_prophet['ds'].apply(is_winter)\n",
    "train_prophet['is_weekend'] = train_prophet['ds'].apply(is_weekend)\n",
    "train_prophet['is_weekday'] = ~train_prophet['ds'].apply(is_weekend) \n",
    "\n",
    "# train_prophet.shape"
   ]
  },
  {
   "cell_type": "code",
   "execution_count": null,
   "id": "a5e53c73-e90b-4f8b-b837-5730ba670753",
   "metadata": {},
   "outputs": [],
   "source": [
    "# agregamos al set de testeo\n",
    "test_prophet['is_spring'] = test_prophet['ds'].apply(is_spring)\n",
    "test_prophet['is_summer'] = test_prophet['ds'].apply(is_summer)\n",
    "test_prophet['is_autumn'] = test_prophet['ds'].apply(is_autumn)\n",
    "test_prophet['is_winter'] = test_prophet['ds'].apply(is_winter)\n",
    "test_prophet['is_weekend'] = test_prophet['ds'].apply(is_weekend)\n",
    "test_prophet['is_weekday'] = ~test_prophet['ds'].apply(is_weekend)"
   ]
  },
  {
   "cell_type": "code",
   "execution_count": null,
   "id": "08686179-3c76-46c9-9f2a-76d4b9d87b4c",
   "metadata": {},
   "outputs": [],
   "source": [
    "# test_prophet.shape\n",
    "# test_prophet[test_prophet[\"is_weekend\"]][0:100]"
   ]
  },
  {
   "cell_type": "code",
   "execution_count": null,
   "id": "25818459-20d3-4df8-b223-b4c22476b0b8",
   "metadata": {},
   "outputs": [],
   "source": [
    "modelo = Prophet(\n",
    "    daily_seasonality = False,\n",
    "    weekly_seasonality = False,\n",
    "    yearly_seasonality = False\n",
    ")\n",
    "\n",
    "modelo.add_seasonality(name='yearly', period=365.25, fourier_order = 120)\n",
    "\n",
    "modelo.add_seasonality(name='weekly_spring', \n",
    "                        period=7,\n",
    "                        fourier_order = 13,\n",
    "                        condition_name='is_spring')\n",
    "modelo.add_seasonality(name='weekly_summer', \n",
    "                        period=7,\n",
    "                        fourier_order=13, \n",
    "                        condition_name='is_summer')\n",
    "modelo.add_seasonality(name='weekly_autumn', \n",
    "                        period=7,\n",
    "                        fourier_order=13, \n",
    "                        condition_name='is_autumn')\n",
    "modelo.add_seasonality(name='weekly_winter', \n",
    "                        period=7,\n",
    "                        fourier_order=13, \n",
    "                        condition_name='is_winter')\n",
    "\n",
    "modelo.add_seasonality(name='daily_spring',  \n",
    "                        period=1,\n",
    "                        fourier_order=5, \n",
    "                        condition_name='is_spring')\n",
    "modelo.add_seasonality(name='daily_summer',  \n",
    "                        period=1,\n",
    "                        fourier_order=5, \n",
    "                        condition_name='is_summer')\n",
    "modelo.add_seasonality(name='daily_autumn',  \n",
    "                        period=1,\n",
    "                        fourier_order=5, \n",
    "                        condition_name='is_autumn')\n",
    "modelo.add_seasonality(name='daily_winter',  \n",
    "                        period=1,\n",
    "                        fourier_order=5, \n",
    "                        condition_name='is_winter')\n",
    "\n",
    "modelo.add_seasonality(name='daily_weekend',  \n",
    "                        period=1,\n",
    "                        fourier_order=5, \n",
    "                        condition_name='is_weekend')\n",
    "modelo.add_seasonality(name='daily_weekday',  \n",
    "                        period=1,\n",
    "                        fourier_order=5, \n",
    "                        condition_name='is_weekday')\n",
    "                        \n",
    "# Feriados/días festivos\n",
    "modelo.add_country_holidays(country_name = 'AR')"
   ]
  },
  {
   "cell_type": "markdown",
   "id": "2773d0f4-d0b3-43de-a115-56668dc4aa0b",
   "metadata": {},
   "source": [
    "## Predicción y gráficos de tendencias"
   ]
  },
  {
   "cell_type": "code",
   "execution_count": null,
   "id": "7f4b90d7-3c2b-4f39-9128-0a76cb543272",
   "metadata": {},
   "outputs": [],
   "source": [
    "# fitting el modelo\n",
    "modelo.fit(train_prophet);\n",
    "\n",
    "#parte del dataframe en el que queremos hacer la prediccion\n",
    "future = test_prophet.drop(['y'], axis=1)\n",
    "\n",
    "# Prediciendo valores\n",
    "forecast = modelo.predict(future)\n",
    "\n",
    "pd.plotting.register_matplotlib_converters()\n",
    "\n",
    "#graficando el componente de estacionalidad encontrado\n",
    "_ = modelo.plot_components(forecast)"
   ]
  },
  {
   "cell_type": "code",
   "execution_count": null,
   "id": "20cd29a3-d3ed-4fac-afbc-15e055d75162",
   "metadata": {},
   "outputs": [],
   "source": [
    "from fbprophet.plot import add_changepoints_to_plot\n",
    "fig = modelo.plot(forecast)\n",
    "a = add_changepoints_to_plot(fig.gca(), modelo, forecast)"
   ]
  },
  {
   "cell_type": "markdown",
   "id": "df92ac00-7564-4cbd-a27b-7d859d8828b4",
   "metadata": {},
   "source": [
    "## Definimos función MAPE: error de porcentaje absoluto medio"
   ]
  },
  {
   "cell_type": "code",
   "execution_count": null,
   "id": "fd888c54-50d2-44a4-b204-4ff8aaefa762",
   "metadata": {},
   "outputs": [],
   "source": [
    "def mape(y_true, y_pred):\n",
    "    \"\"\"Error de porcentaje absoluto medio\"\"\"\n",
    "    \n",
    "    # conversión a vectores numpy\n",
    "    y_true, y_pred = np.array(y_true), np.array(y_pred)\n",
    "    \n",
    "    # Porcentaje de error\n",
    "    pe = (y_true - y_pred) / y_true\n",
    "    \n",
    "    # valor absolutos\n",
    "    ape = np.abs(pe)\n",
    "    \n",
    "    # Cuantificación del rendimiento en un solo nº\n",
    "    mape = np.mean(ape)\n",
    "    \n",
    "    return f'{mape*100:.2f}%'"
   ]
  },
  {
   "cell_type": "markdown",
   "id": "6737b8ff-71c0-4e4e-bd7d-d146e27ecc3e",
   "metadata": {},
   "source": [
    "## Graficamos los resultados obtenidos: Curva de test y de valores predecidos"
   ]
  },
  {
   "cell_type": "code",
   "execution_count": null,
   "id": "3e18856b-2475-4e41-9e45-a00e7e49edbd",
   "metadata": {},
   "outputs": [],
   "source": [
    "# create figure\n",
    "fig = go.Figure()\n",
    "fig.add_trace(go.Scatter(x=test_prophet.ds, y=test_prophet.y,\n",
    "                         mode='lines',\n",
    "                         name='Test - Ground Truth'))\n",
    "fig.add_trace(go.Scatter(x=forecast.ds, y=forecast.yhat,\n",
    "                         mode='lines', \n",
    "                         name='Test - Prediction'))\n",
    "\n",
    "# adjust layout\n",
    "fig.update_traces(line=dict(width=0.5))\n",
    "fig.update_layout(title='Prophet Forecast of Hourly Energy Demand',\n",
    "                  xaxis_title='Date & Time (yyyy/mm/dd hh:MM)',\n",
    "                  yaxis_title='Energy Demand [MW]')\n",
    "fig.show()\n",
    "\n",
    "# quantify accuracy\n",
    "print(f'MAPE for Prophet\\'s predictions: {mape(test_prophet.y, forecast.yhat)}')"
   ]
  },
  {
   "cell_type": "markdown",
   "id": "0d41943e-8adf-44ec-a72c-96120feea401",
   "metadata": {},
   "source": [
    "## Visualización de la primer y última semana (test vs previsión)"
   ]
  },
  {
   "cell_type": "code",
   "execution_count": null,
   "id": "d2ca36d5-6f71-4aec-81a1-8ee6e0060dfa",
   "metadata": {},
   "outputs": [],
   "source": [
    "# Longitud de intervalo\n",
    "interval = 24*7\n",
    "\n",
    "# Necesitamos adaptar al intervalo las variables a usarse, \n",
    "# dado que la predicción se hizo por intervalos de 24*365\n",
    "x_true, y_true = test_prophet.iloc[:interval].ds, test_prophet.iloc[:interval].y\n",
    "x_pred, y_pred = forecast.iloc[:interval].ds, forecast.iloc[:interval].yhat\n",
    "\n",
    "# Grafica\n",
    "fig = go.Figure()\n",
    "fig.add_trace(go.Scatter(x=x_true, y=y_true,\n",
    "                         mode = 'lines',\n",
    "                         name = 'Test - Ground Truth'))\n",
    "fig.add_trace(go.Scatter(x=x_pred, y=y_pred,\n",
    "                         mode = 'lines',\n",
    "                         name = 'Test - Prediction'))\n",
    "# Ajustes varios sobre la grafica\n",
    "fig.update_traces(line=dict(width=0.9))\n",
    "fig.update_layout(title=f'Prophet: Pronóstico de las primeras {interval} horas de Demanda',\n",
    "                  xaxis_title='Date & Time (yyyy/mm/dd hh:MM)',\n",
    "                  yaxis_title='Energy Demand [MW]')\n",
    "fig.show()\n",
    "\n",
    "# Eficacia \n",
    "print(f'MAPE para el intervalo en las primeras {interval} horas: {mape(y_true, y_pred)}')"
   ]
  },
  {
   "cell_type": "code",
   "execution_count": null,
   "id": "5b2ddfef-686b-4515-85ab-7bbbdf560b15",
   "metadata": {},
   "outputs": [],
   "source": [
    "# Longitud de intervalo\n",
    "interval = -24*7\n",
    "\n",
    "# Necesitamos adaptar al intervalo las variables a usarse, \n",
    "# dado que la predicción se hizo por intervalos de 24*365\n",
    "x_true, y_true = test_prophet.iloc[interval:].ds, test_prophet.iloc[interval:].y\n",
    "x_pred, y_pred = forecast.iloc[interval:].ds, forecast.iloc[interval:].yhat\n",
    "\n",
    "# Grafica\n",
    "fig = go.Figure()\n",
    "fig.add_trace(go.Scatter(x=x_true, y=y_true,\n",
    "                         mode = 'lines',\n",
    "                         name = 'Test - Ground Truth'))\n",
    "fig.add_trace(go.Scatter(x=x_pred, y=y_pred,\n",
    "                         mode = 'lines',\n",
    "                         name = 'Test - Prediction'))\n",
    "# Ajustes varios sobre la grafica\n",
    "fig.update_traces(line=dict(width=0.9))\n",
    "fig.update_layout(title=f'Prophet: Pronóstico de las últimas {abs(interval)} horas de Demanda',\n",
    "                  xaxis_title='Date & Time (yyyy/mm/dd hh:MM)',\n",
    "                  yaxis_title='Energy Demand [MW]')\n",
    "fig.show()\n",
    "\n",
    "# Eficacia \n",
    "print(f'MAPE para el intervalo en las primeras {abs(interval)} horas: {mape(y_true, y_pred)}')"
   ]
  },
  {
   "cell_type": "markdown",
   "id": "4b79adf1-a58a-4fe5-9e66-13b0e9183737",
   "metadata": {},
   "source": [
    "## Ajustando Hiper-Parámetros del modelo"
   ]
  },
  {
   "cell_type": "markdown",
   "id": "b1db10df-9c41-410a-b017-bb6517cb4d43",
   "metadata": {},
   "source": [
    "__Time-Serie & Hyperparameter: ['Tuning'](https://www.kaggle.com/manovirat/timeseries-using-prophet-hyperparameter-tuning/notebook#HyperParameter-Tuning-using-ParameterGrid)__"
   ]
  },
  {
   "cell_type": "markdown",
   "id": "5526a850-2dfb-4c8f-8576-dc821898aba2",
   "metadata": {},
   "source": [
    "<i>El siguiente bloque de código es para guardar 150 combinaciones posibles:</i><br>\n",
    "\n",
    "```\n",
    "    from sklearn.model_selection import ParameterGrid\n",
    "    params_grid = {'seasonality_mode':('multiplicative','additive'),\n",
    "                   'changepoint_prior_scale':[0.1,0.2,0.3,0.4,0.5],\n",
    "                   'holidays_prior_scale':[0.1,0.2,0.3,0.4,0.5],\n",
    "                   'n_changepoints' : [100,150,200]}\n",
    "\n",
    "    grid = ParameterGrid(params_grid)\n",
    "    print(type(grid))\n",
    "\n",
    "    cnt = 0\n",
    "    for p in grid:\n",
    "        cnt = cnt+1\n",
    "\n",
    "    print('Total de posibles modelos',cnt)\n",
    "```"
   ]
  },
  {
   "cell_type": "code",
   "execution_count": null,
   "id": "e19910ff-f77f-472b-8ba3-633021539627",
   "metadata": {},
   "outputs": [],
   "source": [
    "## AJUSTA LOS VALORES ANTES DE CORRER \n",
    "'''\n",
    "modelo_tuneado = Prophet(growth= 'linear',   \n",
    "                         n_changepoints = 200, \n",
    "                         changepoint_range=0.95, \n",
    "                         yearly_seasonality = False,\n",
    "                         weekly_seasonality=False,\n",
    "                         daily_seasonality = False,                                                 \n",
    "                         seasonality_mode = 'additive',\n",
    "                         seasonality_prior_scale=10.0,\n",
    "                         changepoint_prior_scale = 0.005,                          \n",
    "                         interval_width=0.8)\n",
    "                         \n",
    "Yearly F: 100 / Weakly F: 15 / Daily F: 7\n",
    "13.52%\n",
    "'''\n",
    "\n",
    "modelo_tuneado = Prophet(growth= 'linear',   \n",
    "                         n_changepoints = 200, \n",
    "                         changepoint_range=0.95, \n",
    "                         yearly_seasonality = False,\n",
    "                         weekly_seasonality=False,\n",
    "                         daily_seasonality = False,                                                 \n",
    "                         seasonality_mode = 'additive',\n",
    "                         seasonality_prior_scale=10.0,\n",
    "                         changepoint_prior_scale = 0.005,\n",
    "                         interval_width=0.8)\n",
    "\n",
    "modelo_tuneado.add_seasonality(name='yearly', period=365.25, fourier_order = 100)\n",
    "\n",
    "modelo_tuneado.add_seasonality(name='weekly_spring', \n",
    "                        period=7,\n",
    "                        fourier_order = 15,\n",
    "                        condition_name='is_spring')\n",
    "\n",
    "modelo_tuneado.add_seasonality(name='weekly_summer', \n",
    "                        period=7,\n",
    "                        fourier_order=15,\n",
    "                        condition_name='is_summer')\n",
    "\n",
    "modelo_tuneado.add_seasonality(name='weekly_autumn', \n",
    "                        period=7,\n",
    "                        fourier_order=15,\n",
    "                        condition_name='is_autumn')\n",
    "\n",
    "modelo_tuneado.add_seasonality(name='weekly_winter', \n",
    "                        period=7,\n",
    "                        fourier_order=15,\n",
    "                        condition_name='is_winter')\n",
    "\n",
    "modelo_tuneado.add_seasonality(name='daily_spring',  \n",
    "                        period=1,\n",
    "                        fourier_order=7, \n",
    "                        condition_name='is_spring')\n",
    "\n",
    "modelo_tuneado.add_seasonality(name='daily_summer',  \n",
    "                        period=1,\n",
    "                        fourier_order=7,\n",
    "                        condition_name='is_summer')\n",
    "\n",
    "modelo_tuneado.add_seasonality(name='daily_autumn',  \n",
    "                        period=1,\n",
    "                        fourier_order=7,\n",
    "                        condition_name='is_autumn')\n",
    "\n",
    "modelo_tuneado.add_seasonality(name='daily_winter',  \n",
    "                        period=1,\n",
    "                        fourier_order=7,\n",
    "                        condition_name='is_winter')\n",
    "\n",
    "modelo_tuneado.add_seasonality(name='daily_weekend',  \n",
    "                        period=1,\n",
    "                        fourier_order=7,\n",
    "                        condition_name='is_weekend')\n",
    "\n",
    "modelo_tuneado.add_seasonality(name='daily_weekday',  \n",
    "                        period=1,\n",
    "                        fourier_order=7,\n",
    "                        condition_name='is_weekday')\n",
    "                        \n",
    "# Feriados/días festivos\n",
    "# modelo.add_country_holidays(country_name = 'AR')"
   ]
  },
  {
   "cell_type": "markdown",
   "id": "f56a96bc-ee4d-41df-81b0-e69324dea38d",
   "metadata": {},
   "source": [
    "## Nueva predicción y gráficos de tendencia"
   ]
  },
  {
   "cell_type": "code",
   "execution_count": null,
   "id": "b08c254d-5e72-492f-a837-a2344aa06e15",
   "metadata": {},
   "outputs": [],
   "source": [
    "# fitting el modelo\n",
    "modelo_tuneado.fit(train_prophet)\n",
    "\n",
    "#parte del dataframe en el que queremos hacer la prediccion\n",
    "future_two = test_prophet.drop(['y'], axis=1)\n",
    "\n",
    "# Prediciendo valores\n",
    "tunning_forecast = modelo_tuneado.predict(future_two)\n",
    "\n",
    "pd.plotting.register_matplotlib_converters()\n",
    "\n",
    "#graficando el componente de estacionalidad encontrado\n",
    "_ = modelo.plot_components(tunning_forecast)"
   ]
  },
  {
   "cell_type": "code",
   "execution_count": null,
   "id": "31d76d7c-2356-48f8-a043-1293312a16ed",
   "metadata": {},
   "outputs": [],
   "source": [
    "fig = modelo_tuneado.plot(tunning_forecast)\n",
    "a = add_changepoints_to_plot(fig.gca(), modelo_tuneado, tunning_forecast)"
   ]
  },
  {
   "cell_type": "markdown",
   "id": "8cbe793e-b32a-428f-8320-db6a83373b1c",
   "metadata": {},
   "source": [
    "## Graficamos los nuevos resultados obtenidos: Curva de test y de valores predecidos"
   ]
  },
  {
   "cell_type": "code",
   "execution_count": null,
   "id": "401ce0fe-d97c-40ee-a7e2-21f7957c00b2",
   "metadata": {},
   "outputs": [],
   "source": [
    "# create figure\n",
    "fig = go.Figure()\n",
    "fig.add_trace(go.Scatter(x=test_prophet.ds, y=test_prophet.y,\n",
    "                         mode='lines',\n",
    "                         name='Test - Ground Truth'))\n",
    "fig.add_trace(go.Scatter(x=tunning_forecast.ds, y=tunning_forecast.yhat,\n",
    "                         mode='lines', \n",
    "                         name='Test - Prediction'))\n",
    "\n",
    "# adjust layout\n",
    "fig.update_traces(line=dict(width=0.5))\n",
    "fig.update_layout(title='Prophet Forecast of Hourly Energy Demand',\n",
    "                  xaxis_title='Date & Time (yyyy/mm/dd hh:MM)',\n",
    "                  yaxis_title='Energy Demand [MW]')\n",
    "fig.show()\n",
    "\n",
    "# quantify accuracy\n",
    "print(f'MAPE for Prophet\\'s predictions: {mape(test_prophet.y, tunning_forecast.yhat)}')"
   ]
  },
  {
   "cell_type": "markdown",
   "id": "83ce17fd-3f1b-463d-a899-1bd737df74ef",
   "metadata": {},
   "source": [
    "## Visualización de la primer y última semana (test vs previsión)"
   ]
  },
  {
   "cell_type": "code",
   "execution_count": null,
   "id": "9d486221-9af9-4f00-b335-d725a30f57ee",
   "metadata": {},
   "outputs": [],
   "source": [
    "# Longitud de intervalo\n",
    "interval = 24*7\n",
    "\n",
    "# Necesitamos adaptar al intervalo las variables a usarse, \n",
    "# dado que la predicción se hizo por intervalos de 24*365\n",
    "x_true, y_true = test_prophet.iloc[:interval].ds, test_prophet.iloc[:interval].y\n",
    "x_pred, y_pred = tunning_forecast.iloc[:interval].ds, tunning_forecast.iloc[:interval].yhat\n",
    "\n",
    "# Grafica\n",
    "fig = go.Figure()\n",
    "fig.add_trace(go.Scatter(x=x_true, y=y_true,\n",
    "                         mode = 'lines',\n",
    "                         name = 'Test - Ground Truth'))\n",
    "fig.add_trace(go.Scatter(x=x_pred, y=y_pred,\n",
    "                         mode = 'lines',\n",
    "                         name = 'Test - Prediction'))\n",
    "# Ajustes varios sobre la grafica\n",
    "fig.update_traces(line=dict(width=0.9))\n",
    "fig.update_layout(title=f'Prophet: Pronóstico de las primeras {interval} horas de Demanda',\n",
    "                  xaxis_title='Date & Time (yyyy/mm/dd hh:MM)',\n",
    "                  yaxis_title='Energy Demand [MW]')\n",
    "fig.show()\n",
    "\n",
    "# Eficacia \n",
    "print(f'MAPE para el intervalo en las primeras {interval} horas: {mape(y_true, y_pred)}')"
   ]
  },
  {
   "cell_type": "code",
   "execution_count": null,
   "id": "86135821-aa56-46d1-8309-ad31f464ee98",
   "metadata": {},
   "outputs": [],
   "source": [
    "# Longitud de intervalo\n",
    "interval = -24*7\n",
    "\n",
    "# Necesitamos adaptar al intervalo las variables a usarse, \n",
    "# dado que la predicción se hizo por intervalos de 24*365\n",
    "x_true, y_true = test_prophet.iloc[interval:].ds, test_prophet.iloc[interval:].y\n",
    "x_pred, y_pred = tunning_forecast.iloc[interval:].ds, tunning_forecast.iloc[interval:].yhat\n",
    "\n",
    "# Grafica\n",
    "fig = go.Figure()\n",
    "fig.add_trace(go.Scatter(x=x_true, y=y_true,\n",
    "                         mode = 'lines',\n",
    "                         name = 'Test - Ground Truth'))\n",
    "fig.add_trace(go.Scatter(x=x_pred, y=y_pred,\n",
    "                         mode = 'lines',\n",
    "                         name = 'Test - Prediction'))\n",
    "# Ajustes varios sobre la grafica\n",
    "fig.update_traces(line=dict(width=0.9))\n",
    "fig.update_layout(title=f'Prophet: Pronóstico de las últimas {abs(interval)} horas de Demanda',\n",
    "                  xaxis_title='Date & Time (yyyy/mm/dd hh:MM)',\n",
    "                  yaxis_title='Energy Demand [MW]')\n",
    "fig.show()\n",
    "\n",
    "# Eficacia \n",
    "print(f'MAPE para el intervalo en las primeras {abs(interval)} horas: {mape(y_true, y_pred)}')"
   ]
  },
  {
   "cell_type": "markdown",
   "id": "6e952dff-d06e-4022-95b1-4079826f16ba",
   "metadata": {},
   "source": [
    "## Guardo los datos obtenidos en un archivo .csv"
   ]
  },
  {
   "cell_type": "code",
   "execution_count": null,
   "id": "77a2f12d-e6b1-4b9f-a603-7210c94fecea",
   "metadata": {},
   "outputs": [],
   "source": [
    "# df_y = pd.DataFrame(forecast)\n",
    "# df_y.rename(columns={'ds':'DateTime', 'y':'Demanda en [MW]', 'yhat': 'Demanda pronosticada en [MW]'}, inplace = True)\n",
    "# df_y.set_index('DateTime')"
   ]
  },
  {
   "cell_type": "code",
   "execution_count": null,
   "id": "04b03fcc-be36-435a-8e4e-964db263e25e",
   "metadata": {},
   "outputs": [],
   "source": [
    "# df_y.to_csv('forecasting_prophet.csv', columns=['Demanda pronosticada en [MW]'], encoding='utf-8')"
   ]
  },
  {
   "cell_type": "markdown",
   "id": "b5602829-4edd-443e-8061-0764f7e19dfc",
   "metadata": {},
   "source": [
    "## Pasos a seguir"
   ]
  },
  {
   "cell_type": "code",
   "execution_count": null,
   "id": "fd8957be-eb48-4fde-bafb-2a77003c4aee",
   "metadata": {},
   "outputs": [],
   "source": [
    "# Probar con extensión de tiempo"
   ]
  },
  {
   "cell_type": "code",
   "execution_count": null,
   "id": "2ae90b0c-2732-411c-abb6-78c3a383c307",
   "metadata": {},
   "outputs": [],
   "source": [
    "# Mejorar el seguimiento de la curva de pronostico con la de test para reducir el MAPE. "
   ]
  },
  {
   "cell_type": "code",
   "execution_count": null,
   "id": "1c69a2be-f8fe-46a3-8d56-05dc6649bb51",
   "metadata": {},
   "outputs": [],
   "source": [
    "# Aplicar el modelo a los 4 medidores restantes"
   ]
  }
 ],
 "metadata": {
  "kernelspec": {
   "display_name": "Python 3 (ipykernel)",
   "language": "python",
   "name": "python3"
  },
  "language_info": {
   "codemirror_mode": {
    "name": "ipython",
    "version": 3
   },
   "file_extension": ".py",
   "mimetype": "text/x-python",
   "name": "python",
   "nbconvert_exporter": "python",
   "pygments_lexer": "ipython3",
   "version": "3.9.7"
  },
  "toc-autonumbering": false
 },
 "nbformat": 4,
 "nbformat_minor": 5
}
