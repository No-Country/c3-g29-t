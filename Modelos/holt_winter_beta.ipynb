{
 "cells": [
  {
   "cell_type": "code",
   "execution_count": null,
   "id": "aa449e99-bada-4391-880a-fb4ecdce42ea",
   "metadata": {},
   "outputs": [],
   "source": [
    "#Operaciones algebraicas\n",
    "import numpy as np\n",
    "\n",
    "# Para tratamiento y e/s de datos\n",
    "import pandas as pd\n",
    "\n",
    "# Gráficos de datos\n",
    "import matplotlib.pyplot as plt\n",
    "import plotly.express as px\n",
    "import plotly.graph_objects as go\n",
    "\n",
    "#filtrado para suavizar los datos\n",
    "from scipy.signal import savgol_filter"
   ]
  },
  {
   "cell_type": "markdown",
   "id": "a5be789b-32e7-4d77-993d-3e81cb4157b5",
   "metadata": {},
   "source": [
    "# Forecasting Demanda de Energía (Holt-Winters)"
   ]
  },
  {
   "cell_type": "markdown",
   "id": "46478d8d-d7e2-4b42-8f9c-bd825fdf00e5",
   "metadata": {},
   "source": [
    "### Leemos los datos que tenemos"
   ]
  },
  {
   "cell_type": "code",
   "execution_count": null,
   "id": "6666d422-06b8-4251-8344-6b67db521f39",
   "metadata": {},
   "outputs": [],
   "source": [
    "# Importo el archivos de datos de consumo de energia.\n",
    "df = pd.read_csv(r'Raw_Data/medidor_1.csv')\n",
    "df.shape"
   ]
  },
  {
   "cell_type": "code",
   "execution_count": null,
   "id": "f79b81e5-8af5-42bd-b292-66ddaf64cbe0",
   "metadata": {},
   "outputs": [],
   "source": [
    "df.info()"
   ]
  },
  {
   "cell_type": "code",
   "execution_count": null,
   "id": "2e6d8544-44ad-469f-9321-e9aca6ce2584",
   "metadata": {},
   "outputs": [],
   "source": [
    "df.tail()"
   ]
  },
  {
   "cell_type": "code",
   "execution_count": null,
   "id": "d1c69dcd-1aa7-4ad5-a348-041be2fae7b1",
   "metadata": {},
   "outputs": [],
   "source": [
    "df.rename(columns={'fechahora':'DateTime', 'demanda_activa':'y[kW]'}, inplace = True)\n",
    "df.drop(columns='terminal', inplace=True)\n",
    "df.head()"
   ]
  },
  {
   "cell_type": "markdown",
   "id": "03362e82-54ac-4f53-8fcc-7a2103e4c939",
   "metadata": {},
   "source": [
    "<b>Target_values: \"y[kW]\"</b>"
   ]
  },
  {
   "cell_type": "code",
   "execution_count": null,
   "id": "1a6e3f60-f7b5-4c36-83ad-830a7db63018",
   "metadata": {},
   "outputs": [],
   "source": [
    "#Convierto el index en DateTimeIndex\n",
    "df['DateTime'] = pd.to_datetime(df['DateTime'])\n",
    "df.sort_values(by=['DateTime'], axis = 0, ascending = True, inplace = True)\n",
    "df.reset_index(inplace = True, drop = True)\n",
    "df.head()"
   ]
  },
  {
   "cell_type": "markdown",
   "id": "05868ef8-0953-44c6-adf6-4e58fc8bb4c6",
   "metadata": {},
   "source": [
    "## Limpieza de datos"
   ]
  },
  {
   "cell_type": "markdown",
   "id": "1dfa3d08-333a-4274-a140-b8665b33733b",
   "metadata": {},
   "source": [
    "### Eliminación de datos duplicados"
   ]
  },
  {
   "cell_type": "code",
   "execution_count": null,
   "id": "cd802b83-74ea-4112-9e3e-d8468bdf7b71",
   "metadata": {},
   "outputs": [],
   "source": [
    "df.shape"
   ]
  },
  {
   "cell_type": "code",
   "execution_count": null,
   "id": "bfffaee4-eaa7-4fc8-b388-64ab129bd014",
   "metadata": {},
   "outputs": [],
   "source": [
    "# De datos duplicados, solo se mantiene la medición más reciente. \n",
    "df.drop_duplicates(subset = 'DateTime', keep = 'last', inplace = True)\n",
    "df.shape"
   ]
  },
  {
   "cell_type": "markdown",
   "id": "a81f9fb4-40e7-45e8-b157-2e37b4cc3180",
   "metadata": {},
   "source": [
    "### Tratando los espacios vacios"
   ]
  },
  {
   "cell_type": "code",
   "execution_count": null,
   "id": "5b8258dd-1bef-44d0-aaa3-e54475944f60",
   "metadata": {},
   "outputs": [],
   "source": [
    "df_2 = df.set_index('DateTime')\n",
    "# print(f'df.index.freq is set to: {df.index.freq}')\n",
    "df_2.head()"
   ]
  },
  {
   "cell_type": "code",
   "execution_count": null,
   "id": "a3621c2a-f728-43ae-bdb4-05c347c356e5",
   "metadata": {},
   "outputs": [],
   "source": [
    "df_2.drop(['2017-08-18 09:15:00'], inplace = True)\n",
    "df_2.head()"
   ]
  },
  {
   "cell_type": "code",
   "execution_count": null,
   "id": "e369037e-6908-4c89-be01-c3ef544ae1d8",
   "metadata": {},
   "outputs": [],
   "source": [
    "print(df_2.index.min())\n",
    "print(df_2.index.max())"
   ]
  },
  {
   "cell_type": "code",
   "execution_count": null,
   "id": "900d41f6-dcc5-4386-b595-ceea0651c175",
   "metadata": {},
   "outputs": [],
   "source": [
    "print(f'df_2.index.freq is set to: {df_2.index.freq}')"
   ]
  },
  {
   "cell_type": "markdown",
   "id": "fc67b17f-781b-479f-a441-a6331db49c3a",
   "metadata": {},
   "source": [
    "<i>\n",
    "Tener un dataset con frecuencia en \"None\" indica \n",
    "que existen datos que perdidos (missing). <br>\n",
    "Para verificar lo dicho, podemos comparar con un rango de datos\n",
    "custom e ininterrumpido\n",
    "</i>"
   ]
  },
  {
   "cell_type": "code",
   "execution_count": null,
   "id": "f647429a-0be6-4070-9be7-c94f98c0a64f",
   "metadata": {},
   "outputs": [],
   "source": [
    "# Custom range\n",
    "data_range = pd.date_range(start = min(df_2.index),\n",
    "                          end = max(df_2.index),\n",
    "                          freq = '15min') \n",
    "#freq = '15min' indica frecuencia por minutos.\n",
    "#Explicación: genero un dataframe con una frecuencia horaria desde el valor minimo del index (datetime)\n",
    "#del dataframe original, y con el valor máximo del index. Con esto lo que obtengo es TODO EL CALENDARIO\n",
    "#sin datos perdidos. \n",
    "#Al hacer mas adelante la diferencia entre ambos dataframe, voy a obtener los \"días perdidos\" del dataframe original. \n",
    "# https://pandas.pydata.org/docs/user_guide/timeseries.html#timeseries-offset-aliases\n",
    "data_range"
   ]
  },
  {
   "cell_type": "code",
   "execution_count": null,
   "id": "8709c202-d5fb-4a76-b157-ceaa60479b32",
   "metadata": {},
   "outputs": [],
   "source": [
    "print(f'La diferencia de longitud entre el rango customizado de datos y nuestro dataset es {(len(data_range)-len(df_2))}')"
   ]
  },
  {
   "cell_type": "code",
   "execution_count": null,
   "id": "c157fac1-6e8d-4884-b5e4-22436b9c40f5",
   "metadata": {},
   "outputs": [],
   "source": [
    "#la diferencia entre ambos df indica la cantidad de valores perdidos en el df_original\n",
    "print(data_range.difference(df_2.index))"
   ]
  },
  {
   "cell_type": "code",
   "execution_count": null,
   "id": "f534c0fe-1494-46f3-ad1a-cb68baba86e5",
   "metadata": {},
   "outputs": [],
   "source": [
    "# El siguiente comando adjunta los datos \"datetime\" perdidos (missing) al dataset original\n",
    "# pero va a generar valores NaN para la variable Target (y[kW])\n",
    "df_3 = df_2.reindex(data_range)\n",
    "\n",
    "# Llenamos estos valores blancos con valores que se encuentran en una curva lineal entre puntos de datos existentes\n",
    "df_3['y[kW]'].interpolate(method='linear', inplace=True)\n",
    "\n",
    "# Con la interpolación se tiene un datetime (set de hora y dias) continuo\n",
    "print(f'La df.index.freq ahora es: {df_3.index.freq}, indicando que ya no tenemos valores perdidos')"
   ]
  },
  {
   "cell_type": "code",
   "execution_count": null,
   "id": "668bd34d-25f9-415a-9112-98bcf0ebd4e3",
   "metadata": {},
   "outputs": [],
   "source": [
    "df_3['date_and_time'] = df_3.index \n",
    "df_3['year'] = df_3.index.year"
   ]
  },
  {
   "cell_type": "markdown",
   "id": "e3d2274f-03cf-4fda-8e0d-ed9e7c25f31d",
   "metadata": {},
   "source": [
    "### Filtro savgol_filter"
   ]
  },
  {
   "cell_type": "code",
   "execution_count": null,
   "id": "dee08c74-3457-472c-8cbe-047efdeb331e",
   "metadata": {},
   "outputs": [],
   "source": [
    "# Datos sin filtrar\n",
    "fig = go.Figure()\n",
    "fig.add_trace(go.Scatter(x=df_3.index, y=df_3['y[kW]'],\n",
    "                         mode='lines',\n",
    "                         name='Datos'))\n",
    "\n",
    "# adjust layout\n",
    "fig.update_traces(line=dict(width=0.5))\n",
    "fig.show()"
   ]
  },
  {
   "cell_type": "code",
   "execution_count": null,
   "id": "be906e33-8d38-4fbf-b337-8feac60040f8",
   "metadata": {},
   "outputs": [],
   "source": [
    "# Aplica filtro elegido en base a buscar cual mejor se adecua\n",
    "y_filtered = df_3[[\"y[kW]\"]].apply(savgol_filter,  window_length=5, polyorder=3)"
   ]
  },
  {
   "cell_type": "code",
   "execution_count": null,
   "id": "c6d19c0a-b382-4368-aec4-352ddd2fa61c",
   "metadata": {},
   "outputs": [],
   "source": [
    "# create figure\n",
    "fig = go.Figure()\n",
    "fig.add_trace(go.Scatter(x=df_3.index,y=df_3['y[kW]'],\n",
    "                         mode='lines',\n",
    "                         name='No Filtrada'))\n",
    "fig.add_trace(go.Scatter(x=y_filtered.index, y=y_filtered['y[kW]'],\n",
    "                         mode='lines', \n",
    "                         name='Filtrada'))\n",
    "\n",
    "# adjust layout\n",
    "fig.update_traces(line=dict(width=0.5))\n",
    "fig.show()"
   ]
  },
  {
   "cell_type": "code",
   "execution_count": null,
   "id": "5fa947d0-bf98-4c3f-9139-4680c7725743",
   "metadata": {},
   "outputs": [],
   "source": [
    "y_filtered.head()"
   ]
  },
  {
   "cell_type": "code",
   "execution_count": null,
   "id": "e0eacc3c-0a7a-4505-b781-1fe17ae29494",
   "metadata": {},
   "outputs": [],
   "source": [
    "y_filtered.info()"
   ]
  },
  {
   "cell_type": "markdown",
   "id": "b387bf7e-47cd-4ad2-aa86-f266b477ddfd",
   "metadata": {},
   "source": [
    "## Histograma"
   ]
  },
  {
   "cell_type": "code",
   "execution_count": null,
   "id": "18021cde-f5a9-4af0-ae4b-500232a5395c",
   "metadata": {},
   "outputs": [],
   "source": [
    "features_num = [\"y[kW]\"]\n",
    "y_filtered[features_num].hist(figsize=(10,4)); #el ; es para evitar una grafica duplicada"
   ]
  },
  {
   "cell_type": "markdown",
   "id": "4390284f-d5cf-4b17-b995-7237f330af72",
   "metadata": {},
   "source": [
    "## EDA (Exploratory data analysis)"
   ]
  },
  {
   "cell_type": "markdown",
   "id": "d4df2a5c-db2b-494a-8b68-63f1503841d2",
   "metadata": {},
   "source": [
    "### Extraemos características de la variable Tiempo\n",
    "<i>\n",
    "Podemos dividir la columna de Datetime en sus diferentes componentes. <br>\n",
    "Esto nos permite encontrar patrones para diferentes grupos.\n",
    "</i>"
   ]
  },
  {
   "cell_type": "code",
   "execution_count": null,
   "id": "79c3f9dc-b7c7-440d-b893-1f08c68a116f",
   "metadata": {},
   "outputs": [],
   "source": [
    "y_filtered['dow'] = y_filtered.index.day_of_week\n",
    "y_filtered['doy'] = y_filtered.index.day_of_year\n",
    "y_filtered['month'] = y_filtered.index.month\n",
    "y_filtered['year'] = y_filtered.index.year\n",
    "y_filtered['quarter'] = y_filtered.index.quarter\n",
    "y_filtered['hour'] = y_filtered.index.hour\n",
    "y_filtered['minutes'] = y_filtered.index.minute\n",
    "y_filtered['weekday'] = y_filtered.index.day_name()\n",
    "y_filtered['woy'] = y_filtered.index.isocalendar().week #week of year\n",
    "y_filtered['dom'] = y_filtered.index.day # Day of Month\n",
    "y_filtered['date'] = y_filtered.index.date \n",
    "\n",
    "# número de estación del año\n",
    "y_filtered['season'] = y_filtered['month'].apply(lambda month_number: (month_number%12 + 3)//3) \n",
    "# el operador aritmético // solo devuelve a parte entera de la división."
   ]
  },
  {
   "cell_type": "code",
   "execution_count": null,
   "id": "9e5285f5-bca8-4329-86de-d89c5b6242fe",
   "metadata": {},
   "outputs": [],
   "source": [
    "y_filtered.head()"
   ]
  },
  {
   "cell_type": "markdown",
   "id": "bf33d549-a2eb-4fce-996a-421064ddbeed",
   "metadata": {},
   "source": [
    "### Gráficos\n",
    "<br>\n",
    "<b>Graficando el consumo de energía a lo largo del tiempo</b>"
   ]
  },
  {
   "cell_type": "code",
   "execution_count": null,
   "id": "3d6fb906-f8d1-46b5-94e6-cc2ffaacd942",
   "metadata": {},
   "outputs": [],
   "source": [
    "#Plotting\n",
    "fig = px.line(y_filtered, x=y_filtered.index, y='y[kW]', title=f'Demanda kW por tiempo [{min(y_filtered.year)} - {max(y_filtered.year)}]')\n",
    "fig.update_traces(line=dict(width=0.5))\n",
    "fig.update_layout(xaxis_title='Date & Time', yaxis_title='Demanda Energía [kW]')\n",
    "fig.show()"
   ]
  },
  {
   "cell_type": "markdown",
   "id": "6021b4d1-fdfd-48a8-a6b3-fd360cc26732",
   "metadata": {},
   "source": [
    "Estudiando la gráfica se observa un comportamiento con patron en temporadas (estación del año). "
   ]
  },
  {
   "cell_type": "markdown",
   "id": "95c95b2b-5a2b-4f0b-bd32-f8230e9e08b6",
   "metadata": {},
   "source": [
    "### Patrones de fecha y hora. \n",
    "\n",
    "Podemos usar nuestras funciones de fecha y hora extraídas previamente <br>\n",
    "para ver si surgen patrones recurrentes de los datos agregados. <br>\n",
    "Tomemos, por ejemplo, la demanda de energía a lo largo del día para cada día de la semana:"
   ]
  },
  {
   "cell_type": "code",
   "execution_count": null,
   "id": "d8151b45-f2b0-4caf-87cf-6d541618ed3a",
   "metadata": {},
   "outputs": [],
   "source": [
    "# Dataframe definido para reflejar el consumo por hora en la semana, usando la mediana de energia. \n",
    "patron_1 = y_filtered.groupby(['hour', 'weekday'], as_index=False).agg({'y[kW]':'median'})\n",
    "# patron_1.tail()"
   ]
  },
  {
   "cell_type": "code",
   "execution_count": null,
   "id": "496614f0-d6f8-4d8c-aa4f-463eb5db21cc",
   "metadata": {},
   "outputs": [],
   "source": [
    "fig = px.line(patron_1, \n",
    "              x = 'hour',\n",
    "              y = 'y[kW]', \n",
    "              color='weekday', \n",
    "              title='Mediana de consumo de energia por hs por día de semana ')\n",
    "\n",
    "fig.update_layout(xaxis_title='Hour', yaxis_title='Energy Demand[kW]')\n",
    "\n",
    "fig.show()"
   ]
  },
  {
   "cell_type": "markdown",
   "id": "52225d4f-29c0-4533-ab0b-c8ac24cc691c",
   "metadata": {},
   "source": [
    "El consumo de energía parece ser más elevados todos los días de la semana excepto los domingos. "
   ]
  },
  {
   "cell_type": "code",
   "execution_count": null,
   "id": "1b864fa8-1d84-417c-83b3-7c6e007851ec",
   "metadata": {},
   "outputs": [],
   "source": [
    "# Dataframe definido para graficar el consumo horario por temporada del año. Mediana de la energía. \n",
    "patron_2 = y_filtered.groupby(['hour', 'season'], as_index=False).agg({'y[kW]':'median'})"
   ]
  },
  {
   "cell_type": "code",
   "execution_count": null,
   "id": "b33977ed-6a70-4dd7-8d30-2270101705e9",
   "metadata": {},
   "outputs": [],
   "source": [
    "fig_2 = px.line(patron_2, \n",
    "                x = 'hour',\n",
    "                y = 'y[kW]', \n",
    "                color='season', \n",
    "                title='Mediana de consumo de energia por hs por estación')\n",
    "\n",
    "fig_2.update_layout(xaxis_title='Hour', yaxis_title='Energy Demand[kW]')\n",
    "\n",
    "fig_2.show()"
   ]
  },
  {
   "cell_type": "markdown",
   "id": "a880522f-2c33-4746-a14d-cdf4b7456f4b",
   "metadata": {},
   "source": [
    "Durante el verano hay mas consumo????"
   ]
  },
  {
   "cell_type": "markdown",
   "id": "dfa11dc4-2962-45c5-9a9c-f1d3272626b9",
   "metadata": {},
   "source": [
    "## Descompoción de la serie de tiempo\n",
    "\n",
    "Los puntos que representan datos a lo largo de una serie de tiempo pueden ser interesantes <br>\n",
    "en cuanto sus patrones se complementes con tendencias de subida/bajada y/o estacionalidad. <br>\n",
    "Según la info adquirida en el EDA esto parece ser así. <br>\n",
    "<br>\n",
    "Debido a que la variación por estaciones del año parece constante a lo largo del tiempo, <br>\n",
    "usaremos el <b> modelo de sumas por descomposición </b> a diferencia del <br>\n",
    "<b>modelo multiplicativo</b> que es útil para casos donde la variación incrementa en el tiempo.\n",
    "<br>\n",
    "Extracto de texto sacado de: __[PennState](https://online.stat.psu.edu/stat510/lesson/5/5.1)__\n",
    "<br>\n",
    "<blockquote>\n",
    "The following two structures are considered for basic decomposition models:\n",
    "<ol>\n",
    "<li>Additive:  = Trend + Seasonal + Random</li>\n",
    "<li>Multiplicative:  = Trend * Seasonal * Random</li>\n",
    "</ol>\n",
    "</blockquote>"
   ]
  },
  {
   "cell_type": "code",
   "execution_count": null,
   "id": "8b89fa5d-4218-4de4-a613-0ada1113e589",
   "metadata": {},
   "outputs": [],
   "source": [
    "from statsmodels.tsa.seasonal import seasonal_decompose\n",
    "\n",
    "# seasonal_decompose necesita un dataframe con un index en formato datatime\n",
    "series = y_filtered[['y[kW]']] #devuelve un dataframe. Si fuese df_3['demand_in_MW'] devuelve una serie\n",
    "\n",
    "#Añadido: la season (patrón de movimiento) es anual, con un periodo(fre) igual a la cantidad de hs por año.\n",
    "frequency = 24*365\n",
    "\n",
    "# Descomposición de la serie de tiempo, con una freq (hs)= 24 hs por 365 días. \n",
    "# El modelo aditivo parace ser el mças acertado dado que no poseo una tendencia de \n",
    "# incremento/decremento en la gráfica. \n",
    "decomposed = seasonal_decompose(series, model='additive', period=frequency)\n",
    "#obtengo un objeto con los siguientes atributos: temporada, tendencia y residuo:\n",
    "# ------------- atributos = [[decomposed.seasonal], [decomposed.trend], [decomposed.resid]] -------------"
   ]
  },
  {
   "cell_type": "code",
   "execution_count": null,
   "id": "ea5f58f2-24b9-4852-be74-391636f47279",
   "metadata": {},
   "outputs": [],
   "source": [
    "df_4 = y_filtered.copy()"
   ]
  },
  {
   "cell_type": "code",
   "execution_count": null,
   "id": "1a8b35d9-113f-4e12-93eb-6fe798771d90",
   "metadata": {},
   "outputs": [],
   "source": [
    "# df_trend = pd.DataFrame(decomposed.trend)\n",
    "# df_seasonal = pd.DataFrame(decomposed.seasonal)\n",
    "# df_resid = pd.DataFrame(decomposed.resid)\n",
    "# df_4 = pd.concat([df_3, df_trend, df_seasonal, df_resid], axis=0)\n",
    "df_4['Trend'] = decomposed.trend\n",
    "df_4['Seasonal'] = decomposed.seasonal\n",
    "df_4['Residuos'] = decomposed.resid"
   ]
  },
  {
   "cell_type": "code",
   "execution_count": null,
   "id": "42e78868-39d1-47fd-9127-392ca4f6e342",
   "metadata": {},
   "outputs": [],
   "source": [
    "fig_t = px.line(df_4,\n",
    "                y = 'Trend',\n",
    "                title='Trend')\n",
    "\n",
    "# adjust line width\n",
    "fig_t.update_traces(line=dict(width=2))\n",
    "        \n",
    "# change layout of axes and the figure's margins \n",
    "# to emulate tight_layout\n",
    "fig_t.update_layout(\n",
    "                xaxis=dict(showticklabels=False, linewidth=1),\n",
    "                yaxis=dict(title=''),\n",
    "                margin=go.layout.Margin(l=40, r=40, b=0, t=40, pad=0)\n",
    ")\n",
    "\n",
    "fig_t.show()"
   ]
  },
  {
   "cell_type": "code",
   "execution_count": null,
   "id": "aa3246aa-5b71-4df4-bd73-2ca456170534",
   "metadata": {},
   "outputs": [],
   "source": [
    "fig_s = px.line(df_4,\n",
    "                y = 'Seasonal',\n",
    "                title='Seasonality')\n",
    "\n",
    "# adjust line width\n",
    "fig_s.update_traces(line=dict(width=0.25))\n",
    "        \n",
    "# change layout of axes and the figure's margins \n",
    "# to emulate tight_layout\n",
    "fig_s.update_layout(\n",
    "                xaxis=dict(showticklabels=False, linewidth=1),\n",
    "                yaxis=dict(title=''),\n",
    "                margin=go.layout.Margin(l=40, r=40, b=0, t=40, pad=0)\n",
    ")\n",
    "\n",
    "fig_s.show()"
   ]
  },
  {
   "cell_type": "code",
   "execution_count": null,
   "id": "91c66378-31de-432d-a144-bcd951c05052",
   "metadata": {},
   "outputs": [],
   "source": [
    "fig_r = px.line(df_4,\n",
    "                y = 'Residuos',\n",
    "                title='Residuos')\n",
    "\n",
    "# adjust line width\n",
    "fig_r.update_traces(line=dict(width=0.5))\n",
    "        \n",
    "# change layout of axes and the figure's margins \n",
    "# to emulate tight_layout\n",
    "fig_r.update_layout(\n",
    "                xaxis=dict(showticklabels=False, linewidth=1),\n",
    "                yaxis=dict(title=''),\n",
    "                margin=go.layout.Margin(l=40, r=40, b=0, t=40, pad=0)\n",
    ")\n",
    "\n",
    "fig_r.show()"
   ]
  },
  {
   "cell_type": "markdown",
   "id": "cb62d8dc-3966-406f-b2db-481ef621d090",
   "metadata": {},
   "source": [
    "# Modelos de estimación (Forecasting)\n",
    "\n",
    "Se tendrán en cuenta los siguientes modelos:\n",
    "    <ol>\n",
    "    <li> Triple Exponential Smoothing: Holt-Winters </li>\n",
    "    <li> Explicit Multi-Seasonality: Prophet </li>\n",
    "    </ol>"
   ]
  },
  {
   "cell_type": "markdown",
   "id": "0f36872d-365d-49e5-ba2c-64372cf2593a",
   "metadata": {},
   "source": [
    "## Train/Test\n",
    "<b>Objetivo</b>: Estimación precisa de la demanda de los proximos 12 meses. <br>\n",
    "Para lograr el objetivo, restringimos los datos de \"entrenamiento\" a algunos años antes de la fecha max.<br>\n",
    "Esto lo hacemos para evitar tendencias que jodan al modelo (por lo analizado, no parece ser el caso)"
   ]
  },
  {
   "cell_type": "code",
   "execution_count": null,
   "id": "9c578e69-fb2e-45ce-9952-21171b9e4233",
   "metadata": {},
   "outputs": [],
   "source": [
    "print(f'El primer punto de medicion fecha/hs es: {min(df_3.index)}')\n",
    "print(f'El último punto de medicion fecha/hs es: {max(df_3.index)}')"
   ]
  },
  {
   "cell_type": "code",
   "execution_count": null,
   "id": "945520a5-1f78-4740-8cc5-228e1d334e02",
   "metadata": {},
   "outputs": [],
   "source": [
    "# Dataframe de recort\n",
    "CUTOFF_DATE = pd.to_datetime('2021-10-04')\n",
    "# TIME_DELTA = pd.DateOffset(years=3)\n",
    "\n",
    "# Separo df p/ test y df p/ train\n",
    "train = df_3.loc[(df_3.index < CUTOFF_DATE)].copy() #& (df_3.index >= CUTOFF_DATE - TIME_DELTA)].copy()\n",
    "test = df_3.loc[df_3.index >= CUTOFF_DATE].copy()"
   ]
  },
  {
   "cell_type": "code",
   "execution_count": null,
   "id": "2e8a50d5-b338-4c81-95cd-e081c7039631",
   "metadata": {},
   "outputs": [],
   "source": [
    "#Se permite recortar varias fechas porque:\n",
    "#1- El comportamiento es constante en el tiempo.\n",
    "#2- Alivia la carga de procesamiento en la PC.\n",
    "print(f'Training shape: {train.shape}\\n Testing shape: {test.shape}\\n')\n",
    "print(f'Las fechas de entrenamiento son: {min(train.index)} & {max(train.index)}')\n",
    "print(f'Las fechas de test son: {min(test.index)} & {max(test.index)}')"
   ]
  },
  {
   "cell_type": "code",
   "execution_count": null,
   "id": "ab60ef31-eb79-4d4c-82ef-023e47a56bf3",
   "metadata": {},
   "outputs": [],
   "source": []
  },
  {
   "cell_type": "code",
   "execution_count": null,
   "id": "a359109c-f497-42c9-9af3-d19063c0856a",
   "metadata": {},
   "outputs": [],
   "source": []
  },
  {
   "cell_type": "code",
   "execution_count": null,
   "id": "7a0caf18-0328-4747-8ee1-c4c49651866f",
   "metadata": {},
   "outputs": [],
   "source": []
  },
  {
   "cell_type": "code",
   "execution_count": null,
   "id": "30096f9f-6c19-4de8-b9b8-d9a9f2be5f2c",
   "metadata": {},
   "outputs": [],
   "source": []
  },
  {
   "cell_type": "code",
   "execution_count": null,
   "id": "098ea772-631e-413b-b028-e6aaf022e8cc",
   "metadata": {},
   "outputs": [],
   "source": []
  },
  {
   "cell_type": "code",
   "execution_count": null,
   "id": "cf011cff-7cd4-4bc1-8584-4abf6b0c3483",
   "metadata": {},
   "outputs": [],
   "source": []
  },
  {
   "cell_type": "code",
   "execution_count": null,
   "id": "30ad822b-d131-4740-a798-b0fe36b7a58f",
   "metadata": {},
   "outputs": [],
   "source": []
  },
  {
   "cell_type": "code",
   "execution_count": null,
   "id": "80b70f18-cf4a-4e1f-a83d-3a3bdd205e8d",
   "metadata": {},
   "outputs": [],
   "source": []
  }
 ],
 "metadata": {
  "kernelspec": {
   "display_name": "Python 3 (ipykernel)",
   "language": "python",
   "name": "python3"
  },
  "language_info": {
   "codemirror_mode": {
    "name": "ipython",
    "version": 3
   },
   "file_extension": ".py",
   "mimetype": "text/x-python",
   "name": "python",
   "nbconvert_exporter": "python",
   "pygments_lexer": "ipython3",
   "version": "3.9.7"
  }
 },
 "nbformat": 4,
 "nbformat_minor": 5
}
