{
 "cells": [
  {
   "cell_type": "markdown",
   "id": "5ec35d84-a47c-4156-b48d-ae227d4f4575",
   "metadata": {},
   "source": [
    "# Combinación Energía y Clima"
   ]
  },
  {
   "cell_type": "code",
   "execution_count": null,
   "id": "9c268d76-c1d9-46fd-bb6d-98ed05d4adaf",
   "metadata": {},
   "outputs": [],
   "source": [
    "import pandas as pd\n",
    "import numpy as np\n",
    "from datetime import datetime, timedelta\n",
    "\n",
    "# Gráficos de datos\n",
    "import matplotlib.pyplot as plt\n",
    "import plotly.express as px\n",
    "import plotly.graph_objects as go"
   ]
  },
  {
   "cell_type": "markdown",
   "id": "3eb75dc7-5be1-4d6b-beda-82dd95c6c9c2",
   "metadata": {},
   "source": [
    "## Lectura y configuración del clima"
   ]
  },
  {
   "cell_type": "code",
   "execution_count": null,
   "id": "251bc90d-c005-468b-88fd-7d4236604583",
   "metadata": {},
   "outputs": [],
   "source": [
    "weather = pd.read_csv(r'Raw_Data/Temperatura.csv', parse_dates = True)"
   ]
  },
  {
   "cell_type": "code",
   "execution_count": null,
   "id": "947189dd-b225-4388-8d3f-523000604007",
   "metadata": {},
   "outputs": [],
   "source": [
    "print(weather.head(10))\n",
    "print('\\n')\n",
    "print(f'Cantidad de datos: {weather.shape[0]}')\n",
    "# print(weather.horaLocalidad.dtype)"
   ]
  },
  {
   "cell_type": "code",
   "execution_count": null,
   "id": "054838f4-b322-4448-98a8-e45fd29355d5",
   "metadata": {},
   "outputs": [],
   "source": [
    "weather.rename(columns = {'horaLocalidad':'datetime'}, inplace = True)"
   ]
  },
  {
   "cell_type": "code",
   "execution_count": null,
   "id": "d3a89e04-01e6-4920-bfbc-2325c72a3560",
   "metadata": {},
   "outputs": [],
   "source": [
    "# La columna 'datetima' es configurada como objeto de tiempo y sus segundos llevados a cero\n",
    "weather['datetime'] = pd.to_datetime(weather['datetime'])\n",
    "weather['datetime'] = weather['datetime'].dt.round('min')\n",
    "weather.sort_values(by=['datetime'], axis = 0, ascending = True, inplace = True)\n",
    "weather.reset_index(inplace = True, drop = True)"
   ]
  },
  {
   "cell_type": "code",
   "execution_count": null,
   "id": "997982b3-bf40-4879-b7bf-5fb2131d86b0",
   "metadata": {},
   "outputs": [],
   "source": [
    "# Función para redondear los minutos a multiplos de 15\n",
    "def round_minutes(dt, resolution):\n",
    "    new_minute = (dt.minute // resolution + 1) * resolution\n",
    "    return dt + timedelta(minutes=new_minute - dt.minute)"
   ]
  },
  {
   "cell_type": "code",
   "execution_count": null,
   "id": "515c07b1-eb3f-408f-a037-ed9684b87df9",
   "metadata": {},
   "outputs": [],
   "source": [
    "lista = []\n",
    "\n",
    "for date in weather['datetime']:    \n",
    "    resolusion = round_minutes(date , 15)\n",
    "    # date = date.replace(resolusion)\n",
    "    lista.append(resolusion)\n",
    "    # print(f'{fecha} con una resolusión de 15min es redondeada a: {resolusion}')\n",
    "    \n",
    "# print(len(lista))\n",
    "weather['new_datetime'] = lista"
   ]
  },
  {
   "cell_type": "code",
   "execution_count": null,
   "id": "258f8e76-5348-47d3-8293-3077cb701aa5",
   "metadata": {},
   "outputs": [],
   "source": [
    "weather.head()"
   ]
  },
  {
   "cell_type": "code",
   "execution_count": null,
   "id": "28739e60-dd9f-487a-b8e2-e56bdd0768d8",
   "metadata": {},
   "outputs": [],
   "source": [
    "weather.drop(columns='datetime', inplace=True)"
   ]
  },
  {
   "cell_type": "code",
   "execution_count": null,
   "id": "10b597a3-ccd6-489d-8079-85a8d0d58860",
   "metadata": {},
   "outputs": [],
   "source": [
    "# De datos duplicados, solo se mantiene la medición más reciente. \n",
    "weather.drop_duplicates(subset = 'new_datetime', keep = 'last', inplace = True)"
   ]
  },
  {
   "cell_type": "code",
   "execution_count": null,
   "id": "06fc2828-6e18-4d30-b238-3f297952939d",
   "metadata": {},
   "outputs": [],
   "source": [
    "weather_data = weather.set_index('new_datetime')"
   ]
  },
  {
   "cell_type": "code",
   "execution_count": null,
   "id": "89376b55-15e4-4c53-b3bd-a2a8442ac7fd",
   "metadata": {},
   "outputs": [],
   "source": [
    "print(weather_data.head(15))\n",
    "print('\\n')\n",
    "print(weather_data.index.min())\n",
    "print(weather_data.index.max())\n",
    "# print(weather_data.index.dtype)"
   ]
  },
  {
   "cell_type": "code",
   "execution_count": null,
   "id": "9eefdcae-29b4-4c90-986e-6723b5812fa1",
   "metadata": {},
   "outputs": [],
   "source": [
    "# Datos sin filtrar\n",
    "fig = go.Figure()\n",
    "fig.add_trace(go.Scatter(x=weather_data.index, y=weather_data['temp'],\n",
    "                         mode='lines',\n",
    "                         name='Clima'))\n",
    "\n",
    "# adjust layout\n",
    "fig.update_traces(line=dict(width=0.5))\n",
    "fig.show()"
   ]
  },
  {
   "cell_type": "markdown",
   "id": "748b5a28-dc1d-4b56-8ce1-3f3258bf6e19",
   "metadata": {},
   "source": [
    "## Lectura y configuración de la energia"
   ]
  },
  {
   "cell_type": "code",
   "execution_count": null,
   "id": "196b5d0a-c15e-4a70-8581-07f406a903a4",
   "metadata": {},
   "outputs": [],
   "source": [
    "energy = pd.read_csv(r'Raw_Data/medidor_1.csv')"
   ]
  },
  {
   "cell_type": "code",
   "execution_count": null,
   "id": "ebb9a890-a50d-45c0-9505-22b59e3f7862",
   "metadata": {},
   "outputs": [],
   "source": [
    "print(energy.head(10))\n",
    "print('\\n')\n",
    "print(f'Cantidad de datos: {energy.shape[0]}')"
   ]
  },
  {
   "cell_type": "code",
   "execution_count": null,
   "id": "1c275f29-1103-461e-ba1f-4320cc54eea8",
   "metadata": {},
   "outputs": [],
   "source": [
    "energy.drop(columns = 'terminal', inplace = True)"
   ]
  },
  {
   "cell_type": "code",
   "execution_count": null,
   "id": "9ecec109-9491-4b37-bf99-2b2055196747",
   "metadata": {},
   "outputs": [],
   "source": [
    "energy.rename(columns = {'fechahora' : 'datetime', 'demanda_activa' : 'y[kW]' }, inplace = True)"
   ]
  },
  {
   "cell_type": "code",
   "execution_count": null,
   "id": "5b74bb5c-4c96-4132-bf02-5146f3b5b1fc",
   "metadata": {},
   "outputs": [],
   "source": [
    "#Convierto a tipo DateTimeIndex la columna \"Datetime\"\n",
    "energy['datetime'] = pd.to_datetime(energy['datetime'])\n",
    "energy.sort_values(by=['datetime'], axis = 0, ascending = True, inplace = True)\n",
    "energy.reset_index(inplace = True, drop = True)"
   ]
  },
  {
   "cell_type": "code",
   "execution_count": null,
   "id": "86cb6659-99c1-4909-b1ed-a3cf1a410bad",
   "metadata": {},
   "outputs": [],
   "source": [
    "# De datos duplicados, solo se mantiene la medición más reciente. \n",
    "energy.drop_duplicates(subset = 'datetime', keep = 'last', inplace = True)"
   ]
  },
  {
   "cell_type": "code",
   "execution_count": null,
   "id": "9302b537-c3f9-48ed-92a7-a4c9093c87df",
   "metadata": {},
   "outputs": [],
   "source": [
    "energy_data = energy.set_index('datetime')\n",
    "energy_data.drop(['2017-08-18 09:15:00'], inplace = True)"
   ]
  },
  {
   "cell_type": "code",
   "execution_count": null,
   "id": "4eeee0f7-e842-4b80-8991-9e2b30c793b1",
   "metadata": {},
   "outputs": [],
   "source": [
    "print(energy_data.head(15))\n",
    "print('\\n')\n",
    "print(energy_data.index.min())\n",
    "print(energy_data.index.max())"
   ]
  },
  {
   "cell_type": "code",
   "execution_count": null,
   "id": "2288b917-e894-4a4a-a5d3-d0c34b3ba529",
   "metadata": {},
   "outputs": [],
   "source": [
    "energy_cut = energy_data.loc['2021-04-12 08:45:00':]"
   ]
  },
  {
   "cell_type": "code",
   "execution_count": null,
   "id": "68ec2d44-abfd-4e44-b4f1-1e68c447f350",
   "metadata": {},
   "outputs": [],
   "source": [
    "print(energy_cut.head())\n",
    "print('\\n')\n",
    "print(energy_cut.tail())\n",
    "print('\\n')\n",
    "print(energy_cut.shape[0])\n",
    "print('\\n')\n",
    "print(energy_cut.index.dtype)"
   ]
  },
  {
   "cell_type": "code",
   "execution_count": null,
   "id": "07075941-0be8-4a55-89b4-ba10cc63d354",
   "metadata": {},
   "outputs": [],
   "source": [
    "# Datos sin filtrar\n",
    "fig = go.Figure()\n",
    "fig.add_trace(go.Scatter(x=energy_cut.index, y=energy_cut['y[kW]'],\n",
    "                         mode='lines',\n",
    "                         name='Energía'))\n",
    "\n",
    "# adjust layout\n",
    "fig.update_traces(line=dict(width=0.5))\n",
    "fig.show()"
   ]
  },
  {
   "cell_type": "code",
   "execution_count": null,
   "id": "d34bb61f-383a-4a44-ad08-be59a3e8500b",
   "metadata": {},
   "outputs": [],
   "source": [
    "# ##### Grafica mensual\n",
    "\n",
    "# #datos agrupados por mes\n",
    "# groups = energy_cut['y[kW]'].groupby(pd.Grouper(freq='M'))\n",
    "\n",
    "# #set figure and axis\n",
    "# fig, axs = plt.subplots(len(groups), 1, figsize=(35,35))\n",
    "\n",
    "\n",
    "# for ax, (name, group) in zip(axs, groups):\n",
    "    \n",
    "#     #plot the data\n",
    "#     ax.plot(pd.Series(group.values))\n",
    "\n",
    "#     ax.set_xlabel('Hour of Year')\n",
    "#     ax.set_ylabel('Total Load')\n",
    "#     ax.set_title(name.month)\n",
    "#     plt.subplots_adjust(hspace=2.5)"
   ]
  },
  {
   "cell_type": "markdown",
   "id": "20138599-5086-4b02-bd40-b709515ef70a",
   "metadata": {},
   "source": [
    "## Combinando ambos datos"
   ]
  },
  {
   "cell_type": "code",
   "execution_count": null,
   "id": "70e88e99-9ef5-4462-963e-60864f110075",
   "metadata": {},
   "outputs": [],
   "source": [
    "#combine the weather and energy dataframes in new df\n",
    "data_comb = energy_cut.copy()\n",
    "\n",
    "#add the weather features\n",
    "data_comb['temp'] = weather_data['temp']\n",
    "\n",
    "data_comb.head(15)"
   ]
  },
  {
   "cell_type": "code",
   "execution_count": null,
   "id": "50036d4d-28be-4959-a624-6a66cdd36998",
   "metadata": {},
   "outputs": [],
   "source": [
    "print(data_comb['temp'].isna().sum())\n",
    "print(data_comb['y[kW]'].isna().sum())"
   ]
  },
  {
   "cell_type": "code",
   "execution_count": null,
   "id": "19017a18-b5ca-41e9-91fc-db979fb97c35",
   "metadata": {},
   "outputs": [],
   "source": [
    "# Llenamos estos valores blancos con valores que se encuentran en una curva lineal entre puntos de datos existentes\n",
    "# data_comb['temp'].interpolate(method='linear', inplace=True)"
   ]
  },
  {
   "cell_type": "code",
   "execution_count": null,
   "id": "7ca2b51a-51e8-4d88-9943-fbf7e773d0e6",
   "metadata": {},
   "outputs": [],
   "source": [
    "print(f'data_comb.index.freq is set to: {data_comb.index.freq}')"
   ]
  },
  {
   "cell_type": "code",
   "execution_count": null,
   "id": "0e0c382b-1c71-4ca5-b2b2-8b19d8279e3d",
   "metadata": {},
   "outputs": [],
   "source": [
    "# Custom range\n",
    "data_range = pd.date_range(start = min(data_comb.index),\n",
    "                          end = max(data_comb.index),\n",
    "                          freq = '15min') \n",
    "#freq = '15min' indica frecuencia por hora.\n",
    "#Explicación: genero un dataframe con una frecuencia horaria desde el valor minimo del index (datetime)\n",
    "#del dataframe original, y con el valor máximo del index. Con esto lo que obtengo es TODO EL CALENDARIO\n",
    "#sin datos perdidos. \n",
    "#Al hacer mas adelante la diferencia entre ambos dataframe, voy a obtener los \"días perdidos\" del dataframe original. \n",
    "# https://pandas.pydata.org/docs/user_guide/timeseries.html#timeseries-offset-aliases\n",
    "data_range"
   ]
  },
  {
   "cell_type": "code",
   "execution_count": null,
   "id": "142c7c38-b28f-45e9-9b59-483f2fe0bfae",
   "metadata": {},
   "outputs": [],
   "source": [
    "print(f'La diferencia de longitud entre el rango customizado de datos y nuestro dataset es {(len(data_range)-len(data_comb))}')"
   ]
  },
  {
   "cell_type": "code",
   "execution_count": null,
   "id": "c6cbd47b-bdc7-46e4-a591-836ecff63b15",
   "metadata": {},
   "outputs": [],
   "source": [
    "#la diferencia entre ambos df indica la cantidad de valores perdidos en el df_original\n",
    "print(data_range.difference(data_comb.index))"
   ]
  },
  {
   "cell_type": "code",
   "execution_count": null,
   "id": "413299b8-c54d-4d3f-b0d1-a2ec30002361",
   "metadata": {},
   "outputs": [],
   "source": [
    "# El siguiente comando adjunta los datos \"datetime\" perdidos (missing) al dataset original\n",
    "# pero va a generar valores NaN para la variable Target (y[kW])\n",
    "full_comb = data_comb.reindex(data_range)\n",
    "\n",
    "# Con la interpolación se tiene un datetime (set de hora y dias) continuo\n",
    "print(f'La weather_data_full.index.freq ahora es: {full_comb.index.freq}')"
   ]
  },
  {
   "cell_type": "code",
   "execution_count": null,
   "id": "734d79c5-8a8c-4f4d-9a55-d5ac51e0fbdd",
   "metadata": {},
   "outputs": [],
   "source": [
    "print(data_comb['temp'].isna().sum())\n",
    "print(data_comb['y[kW]'].isna().sum())"
   ]
  },
  {
   "cell_type": "code",
   "execution_count": null,
   "id": "1b19c2ac-4ffe-4d05-8bf9-a937f61715db",
   "metadata": {},
   "outputs": [],
   "source": [
    "# Llenamos estos valores blancos con valores que se encuentran en una curva lineal entre puntos de datos existentes\n",
    "data_comb['temp'].interpolate(method='linear', inplace=True)\n",
    "data_comb['y[kW]'].interpolate(method='linear', inplace=True)"
   ]
  },
  {
   "cell_type": "code",
   "execution_count": null,
   "id": "8db9ebc1-35bf-473a-992f-7d2cbab64eac",
   "metadata": {},
   "outputs": [],
   "source": [
    "# create figure\n",
    "fig = go.Figure()\n",
    "fig.add_trace(go.Scatter(x=data_comb.index, y=data_comb['temp'],\n",
    "                         mode='lines', \n",
    "                         name='Clima',\n",
    "                         line=dict(color=\"#00ff00\")))\n",
    "\n",
    "# adjust layout\n",
    "fig.update_traces(line=dict(width=1.5))\n",
    "fig.show()"
   ]
  },
  {
   "cell_type": "code",
   "execution_count": null,
   "id": "fe908ffe-a2f3-4df4-9d3f-a66f2cf3071d",
   "metadata": {},
   "outputs": [],
   "source": [
    "# create figure\n",
    "fig = go.Figure()\n",
    "fig.add_trace(go.Scatter(x=data_comb.index,y=data_comb['y[kW]'],\n",
    "                         mode='lines',\n",
    "                         name='Energia'))\n",
    "\n",
    "# adjust layout\n",
    "fig.update_traces(line=dict(width=1.5))\n",
    "fig.show()"
   ]
  },
  {
   "cell_type": "code",
   "execution_count": null,
   "id": "17da4d80-8f31-4471-b4b8-838d73dc5f52",
   "metadata": {},
   "outputs": [],
   "source": [
    "data_comb.tail(15)"
   ]
  },
  {
   "cell_type": "markdown",
   "id": "aa5a2bb3-4b32-41f6-82b3-f34ef66bca25",
   "metadata": {},
   "source": [
    "## Correlación clima y energia "
   ]
  },
  {
   "cell_type": "code",
   "execution_count": null,
   "id": "d7fe56f0-7542-4567-a5e2-9ae33bec00c5",
   "metadata": {},
   "outputs": [],
   "source": [
    "actual_load_correlations = data_comb.corr()['y[kW]']\n",
    "actual_load_correlations.sort_values(ascending=False)"
   ]
  },
  {
   "cell_type": "code",
   "execution_count": null,
   "id": "892b68ce-bb6b-4835-b948-e5f591d4763f",
   "metadata": {},
   "outputs": [],
   "source": [
    "# Es el valor de correlación correcto?"
   ]
  },
  {
   "cell_type": "markdown",
   "id": "6a07f598-85c7-4566-aae4-b7228d5f584f",
   "metadata": {},
   "source": [
    "# CSV"
   ]
  },
  {
   "cell_type": "code",
   "execution_count": null,
   "id": "95c6736d-246e-4a90-9d70-b11782f28622",
   "metadata": {},
   "outputs": [],
   "source": [
    "data_comb.to_csv('data_completa.csv', encoding='utf-8')"
   ]
  }
 ],
 "metadata": {
  "kernelspec": {
   "display_name": "Python 3 (ipykernel)",
   "language": "python",
   "name": "python3"
  },
  "language_info": {
   "codemirror_mode": {
    "name": "ipython",
    "version": 3
   },
   "file_extension": ".py",
   "mimetype": "text/x-python",
   "name": "python",
   "nbconvert_exporter": "python",
   "pygments_lexer": "ipython3",
   "version": "3.9.7"
  },
  "toc-autonumbering": true,
  "toc-showmarkdowntxt": true
 },
 "nbformat": 4,
 "nbformat_minor": 5
}
